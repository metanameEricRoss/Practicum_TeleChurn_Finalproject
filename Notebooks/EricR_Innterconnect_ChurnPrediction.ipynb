{
 "cells": [
  {
   "cell_type": "markdown",
   "id": "1a037fbc",
   "metadata": {},
   "source": [
    "# Interconnect Churn Prediction PipeLine"
   ]
  },
  {
   "cell_type": "markdown",
   "id": "ea209a94",
   "metadata": {},
   "source": [
    "This project will provide insights into the causes and the rate at which customers are leaving the company. This is often referred to as churn analysis. By studying these effects using exploratory data analysis and machine learning techniques, I will analyze different factors and attributes of customers who churned and those who did not churn.\n",
    "\n",
    "The goal of this project is to create a machine learning pipeline that will yield valuable insights and a machine learning model capable of predicting the probability of a customer churning within a four-month period. I will conduct data analysis using historical data from a four-month period for modeling and analysis."
   ]
  },
  {
   "cell_type": "markdown",
   "id": "db1cd60b",
   "metadata": {},
   "source": [
    "## Libraries"
   ]
  },
  {
   "cell_type": "code",
   "execution_count": 142,
   "id": "c3c001f7",
   "metadata": {},
   "outputs": [],
   "source": [
    "import os\n",
    "from datetime import datetime as dt\n",
    "\n",
    "import matplotlib.pyplot as plt\n",
    "import numpy as np\n",
    "import pandas as pd\n",
    "import seaborn as sns\n",
    "\n",
    "from sklearn.feature_selection import RFE\n",
    "from sklearn.metrics import (accuracy_score, auc, average_precision_score,\n",
    "                             confusion_matrix, f1_score, precision_recall_curve,\n",
    "                             precision_score, recall_score, roc_auc_score,\n",
    "                             roc_curve, classification_report)\n",
    "\n",
    "from sklearn.model_selection import (GridSearchCV, RandomizedSearchCV,\n",
    "                                     cross_val_score, train_test_split)\n",
    "\n",
    "from sklearn.preprocessing import LabelEncoder, MinMaxScaler, OneHotEncoder, StandardScaler\n",
    "from sklearn.utils import resample\n",
    "from sklearn.model_selection import StratifiedKFold\n",
    "\n",
    "import random\n",
    "import warnings\n",
    "\n",
    "# Set a random seed for reproducibility\n",
    "random.seed(369)\n",
    "# Filter out specific warnings\n",
    "warnings.filterwarnings(\"ignore\")\n"
   ]
  },
  {
   "cell_type": "markdown",
   "id": "7d4989a3",
   "metadata": {},
   "source": [
    "## Variables "
   ]
  },
  {
   "cell_type": "markdown",
   "id": "e354321f",
   "metadata": {},
   "source": [
    "###### Paths for loading data and saving graphs. "
   ]
  },
  {
   "cell_type": "code",
   "execution_count": 158,
   "id": "76f939b0",
   "metadata": {},
   "outputs": [],
   "source": [
    "data_path = '/Users/ericross/Desktop/Interconnect_churn_prediction/Data/origin_datasets/'\n",
    "\n",
    "graph_path = '/Users/ericross/Desktop/Interconnect_churn_prediction/Charts/'\n",
    "\n",
    "save_chart_path = graph_path"
   ]
  },
  {
   "cell_type": "markdown",
   "id": "5583f000",
   "metadata": {
    "heading_collapsed": true
   },
   "source": [
    "###### Colors For EDA"
   ]
  },
  {
   "cell_type": "code",
   "execution_count": 67,
   "id": "0d56c496",
   "metadata": {
    "hidden": true
   },
   "outputs": [],
   "source": [
    "my_red= '#b72424'\n",
    "my_green= '#53802d'\n",
    "\n",
    "light_background= '#b3b3b3'\n",
    "dark_background= '#4f4f4f'"
   ]
  },
  {
   "cell_type": "markdown",
   "id": "893dbece",
   "metadata": {},
   "source": [
    "## FUNCTIONS"
   ]
  },
  {
   "cell_type": "markdown",
   "id": "0c7b366a",
   "metadata": {
    "heading_collapsed": true
   },
   "source": [
    "### Preprocessing -Func."
   ]
  },
  {
   "cell_type": "markdown",
   "id": "0f4e87c5",
   "metadata": {
    "heading_collapsed": true,
    "hidden": true
   },
   "source": [
    "##### `get_col_percent_share()`"
   ]
  },
  {
   "cell_type": "code",
   "execution_count": 68,
   "id": "b6998a2b",
   "metadata": {
    "hidden": true
   },
   "outputs": [],
   "source": [
    "\n",
    "def get_col_percent_share(data):\n",
    "    \"\"\"\n",
    "    Calculate the count and percentage share of each unique value in columns with string or object values,\n",
    "    ignoring columns with more than 100 unique values.\n",
    "\n",
    "    Parameters:\n",
    "        data (DataFrame): The input DataFrame.\n",
    "\n",
    "    Returns:\n",
    "        DataFrame: A DataFrame where each row represents a unique value in a column,\n",
    "                   along with its count and percentage share.\n",
    "\n",
    "    \"\"\"\n",
    "    string_columns = data.select_dtypes(include=['object']).columns\n",
    "    result = pd.DataFrame()\n",
    "\n",
    "    for column in string_columns:\n",
    "        unique_values = data[column].nunique()\n",
    "        if unique_values > 100:\n",
    "            continue\n",
    "\n",
    "        value_counts = data[column].value_counts()\n",
    "        total_count = len(data[column])\n",
    "        percentages = (value_counts / total_count) * 100\n",
    "        column_result = pd.DataFrame({'Count': value_counts, '%-Share': percentages})\n",
    "        \n",
    "        print(\"------\",column,\"--------------------\")\n",
    "        print(column_result)\n",
    "          # Print the name of the column\n",
    "        print()\n"
   ]
  },
  {
   "cell_type": "markdown",
   "id": "65db764c",
   "metadata": {},
   "source": [
    "### Exploratory Data Analysis -Func."
   ]
  },
  {
   "cell_type": "markdown",
   "id": "db859326",
   "metadata": {},
   "source": [
    "##### `churn_pie_whole`"
   ]
  },
  {
   "cell_type": "code",
   "execution_count": 69,
   "id": "ac0da6a9",
   "metadata": {},
   "outputs": [],
   "source": [
    "def churn_pie_whole(data, values, title, file_name):\n",
    "    \"\"\"\n",
    "    Plot a pie chart for the specified column values and 'is_churned' column.\n",
    "\n",
    "    Parameters:\n",
    "        data (DataFrame): The input DataFrame.\n",
    "        values (str): The name of the column containing the values to plot.\n",
    "        title (str): The title of the pie chart.\n",
    "        file_name (str): the name of file for piec chart. \n",
    "    Returns:\n",
    "        DataFrame: The pivot table used for the pie chart.\n",
    "    \"\"\"\n",
    "    table = data.pivot_table(values=values, index='churn', aggfunc='count')\n",
    "\n",
    "    colors = {'Yes': my_red, 'No': my_green}\n",
    "\n",
    "    explode = [0.1 if c == 'Yes' else 0 for c in table.index]\n",
    "    legend_labels = ['Churn', 'Non-Churn']\n",
    "\n",
    "    fig, ax = plt.subplots(figsize=(5,5))\n",
    "    ax.pie(table[values], labels=None, colors=[colors.get(c, 'gray') for c in table.index], autopct='%1.1f%%', explode=explode, shadow=True)\n",
    "    ax.legend(legend_labels, loc='center', bbox_to_anchor=(0.5, -0.1))\n",
    "    ax.set_title(title)\n",
    "    fig.set_facecolor(dark_background)\n",
    "\n",
    "   \n",
    "    graph_path = save_chart_path + file_name\n",
    "\n",
    "    # Check if the file already exists\n",
    "    if os.path.isfile(graph_path):\n",
    "        print(\"The file already exists.\")\n",
    "    else:\n",
    "        # Save the chart to the specified file path\n",
    "        plt.savefig(graph_path)\n",
    "        print(f\"The chart saved to {graph_path}\")\n",
    "    \n",
    "    plt.show()\n",
    "   \n",
    "    return table"
   ]
  },
  {
   "cell_type": "markdown",
   "id": "a05a1854",
   "metadata": {},
   "source": [
    "##### `churn_pie_multiple_groups`"
   ]
  },
  {
   "cell_type": "code",
   "execution_count": 70,
   "id": "7899123f",
   "metadata": {},
   "outputs": [],
   "source": [
    "def churn_pie_multiple_groups(data, column, file_name):\n",
    "    \"\"\"\n",
    "    Plot pie charts based on the specified column and 'is_churned' column.\n",
    "    The pie charts are ordered based on the highest to lowest 'is_churned' imbalance.\n",
    "\n",
    "    Parameters:\n",
    "        data (DataFrame): The input DataFrame.\n",
    "        column (str): The name of the column containing multiple classes.\n",
    "        file_name (str): the name to save chart, chart_path, will be the directory for project. \n",
    "    Returns:\n",
    "        None\n",
    "    \"\"\"\n",
    "    # Create a pivot table based on 'is_churned' and the specified column\n",
    "    table = data.pivot_table(values='customerID', index=column, columns='churn', aggfunc='count')\n",
    "\n",
    "    # Calculate the 'is_churned' imbalance for each class\n",
    "    imbalance = table['Yes'] / table.sum(axis=1)\n",
    "\n",
    "    # Sort the classes based on the imbalance in descending order\n",
    "    sorted_classes = imbalance.sort_values(ascending=False).index\n",
    "\n",
    "    # Define the colors for the pie chart slices\n",
    "    colors = {'Yes': my_red, 'No': my_green}\n",
    "\n",
    "    # Calculate the number of rows and columns for the grid\n",
    "    num_classes = len(table.index)\n",
    "    num_columns = min(4, num_classes)\n",
    "    num_rows = int(np.ceil(num_classes / num_columns))\n",
    "\n",
    "    # Create the grid of subplots\n",
    "    fig, axes = plt.subplots(num_rows, num_columns, figsize=(15, 5.5*num_rows))\n",
    "\n",
    "    # Flatten the axes array to iterate over it\n",
    "    axes = axes.flatten()\n",
    "\n",
    "    for i, class_value in enumerate(sorted_classes):\n",
    "        # Plot the pie chart for each class value\n",
    "        explode = [0.1 if c == 'Yes' else 0 for c in table.columns]\n",
    "        legend_labels = ['Current', 'Churn']\n",
    "        axes[i].pie(table.loc[class_value],\n",
    "                    colors=[colors.get(c, 'gray') for c in table.columns],\n",
    "                    autopct='%1.1f%%',\n",
    "                    shadow=True,\n",
    "                    explode=explode,\n",
    "                    )\n",
    "        \n",
    "        count = table.loc[class_value].sum()\n",
    "        percent_share = (count / table.values.sum()) * 100\n",
    "        axes[i].text(0.5, 0, f\"Count: {count} ({percent_share:.1f}%)\", transform=axes[i].transAxes, ha='center')\n",
    "        \n",
    "        if class_value in [0, 1]:\n",
    "            # Change class_value to 'Yes' if it is 1, or 'No' if it is 0\n",
    "            class_label = 'Yes' if class_value == 1 else 'No'\n",
    "            axes[i].set_title(f\"{class_label}\", fontsize=14, y=0.925)\n",
    "        else:\n",
    "            axes[i].set_title(f\"{class_value}\", fontsize=14, y=0.925)\n",
    "        \n",
    "        \n",
    "# percentage text objects in pie chart\n",
    "        percent_texts = [t for t in axes[i].texts if '%' in t.get_text()]\n",
    "    \n",
    "        for text in percent_texts:\n",
    "            text.set_fontsize(12)\n",
    "        \n",
    "        \n",
    "        # Set the aspect ratio to be equal to ensure circular pie charts\n",
    "        axes[i].set_aspect('equal')\n",
    "\n",
    "    # Remove any empty subplots\n",
    "    if num_classes < num_rows * num_columns:\n",
    "        for j in range(num_classes, num_rows * num_columns):\n",
    "            fig.delaxes(axes[j])\n",
    "\n",
    "    # Set the title of the figure\n",
    "    fig.suptitle(f\"Pie Charts: churn by classes in {column}\", fontsize=16)\n",
    "\n",
    "    # Adjust spacing between subplots\n",
    "    fig.tight_layout()\n",
    "    fig.set_facecolor(dark_background)\n",
    "    \n",
    "        # Set legend color and text color\n",
    "    legend = fig.legend(legend_labels, title='Legend', loc='upper right')\n",
    "    legend.get_frame().set_facecolor('white')\n",
    "    legend.get_texts()[0].set_color('black')\n",
    "    legend.get_texts()[1].set_color('black')\n",
    "\n",
    "    # Combine the directory path and file name to create the complete file path\n",
    "    chart_save = save_chart_path + file_name\n",
    "\n",
    "    # Check if the file already exists\n",
    "    if os.path.isfile(chart_save):\n",
    "        print(\"The file already exists.\")\n",
    "    else:\n",
    "        # Save the chart to the specified file path\n",
    "        plt.savefig(chart_save)\n",
    "        print(f\"The chart saved to {chart_save}\")\n",
    "   \n",
    "   \n",
    "    # Show the plot\n",
    "    plt.show()\n",
    "    \n",
    "    return table"
   ]
  },
  {
   "cell_type": "markdown",
   "id": "0040c4bc",
   "metadata": {},
   "source": [
    "##### `hist_plot'"
   ]
  },
  {
   "cell_type": "code",
   "execution_count": 71,
   "id": "0a4acd96",
   "metadata": {},
   "outputs": [],
   "source": [
    "def hist_plot(data, column, file_name):\n",
    "\n",
    "    pivot_table = pd.pivot_table(data=data,\n",
    "                                 values=[column],\n",
    "                                 index=['customerID'],\n",
    "                                 columns=['churn'],\n",
    "                                 aggfunc='mean')\n",
    "\n",
    "    churned_data = pivot_table[column]['Yes'].dropna()\n",
    "    current_data = pivot_table[column]['No'].dropna()\n",
    "\n",
    "    \n",
    "    fig, axes = plt.subplots(nrows=1, ncols=2, sharey=True, figsize=(12, 5))\n",
    "\n",
    "    axes[0].hist(churned_data, bins=20, alpha=0.80, label='Churned Customers (Yes)', color=my_red, edgecolor=my_red)\n",
    "    axes[0].set_title('Churned Customers (Yes)')\n",
    "    axes[0].set_xlabel(column)\n",
    "    axes[0].set_ylabel('Count')\n",
    "    axes[0].set_facecolor(light_background)\n",
    "    \n",
    "    axes[1].hist(current_data, bins=20, alpha=0.80, label='Current Customers (No)', color=my_green, edgecolor=my_green)\n",
    "    axes[1].set_title('Current Customers (No)', fontsize=16)\n",
    "    axes[1].set_xlabel(column, fontsize=14)\n",
    "    axes[1].set_ylabel('Count', fontsize=14)\n",
    "    axes[1].set_facecolor(light_background)\n",
    "\n",
    "\n",
    "    fig.set_facecolor(dark_background)\n",
    "    fig.tight_layout()\n",
    "    \n",
    "        # Combine the directory path and file name to create the complete file path\n",
    "    graph_path = save_chart_path + file_name\n",
    "\n",
    "    # Check if the file already exists\n",
    "    if os.path.isfile(graph_path):\n",
    "        print(\"The file already exists.\")\n",
    "    else:\n",
    "        # Save the chart to the specified file path\n",
    "        plt.savefig(graph_path)\n",
    "        print(f\"The chart saved to {graph_path}\")\n",
    "   \n",
    "   \n",
    "    # Show the plot\n",
    "    plt.show()"
   ]
  },
  {
   "cell_type": "markdown",
   "id": "7cddb773",
   "metadata": {
    "heading_collapsed": true
   },
   "source": [
    "# Preprocessing"
   ]
  },
  {
   "cell_type": "markdown",
   "id": "45496c0e",
   "metadata": {
    "heading_collapsed": true,
    "hidden": true
   },
   "source": [
    "## Load Data"
   ]
  },
  {
   "cell_type": "markdown",
   "id": "e21e1673",
   "metadata": {
    "hidden": true
   },
   "source": [
    "`customer_ID` - unique Keys across data, \n",
    "\n",
    "`EndDate` - target values for Churn over four months. \n",
    "\n",
    "**Data Sets.**\n",
    "\n",
    "- `contract.csv`- Financial, Dates, Payment Method Information, includes target column for Churn.\n",
    "- `personal.csv`- Basic Personal Information like Gender, Senior Citizen, Couple, Dependant. \n",
    "- `internet.csv`- Internet Service type and some addition services. \n",
    "- `phone.csv`- 'MultipleLines', is the only informational column."
   ]
  },
  {
   "cell_type": "code",
   "execution_count": 72,
   "id": "492b6e82",
   "metadata": {
    "hidden": true
   },
   "outputs": [],
   "source": [
    "contract_raw = pd.read_csv(\n",
    "    '/Users/ericross/Desktop/Interconnect_churn_prediction/Data/origin_datasets/contract.csv',\n",
    "    parse_dates=[1])"
   ]
  },
  {
   "cell_type": "code",
   "execution_count": 73,
   "id": "1135867b",
   "metadata": {
    "hidden": true
   },
   "outputs": [],
   "source": [
    "#Client information.\n",
    "personal_raw = pd.read_csv(\n",
    "    '/Users/ericross/Desktop/Interconnect_churn_prediction/Data/origin_datasets/personal.csv')"
   ]
  },
  {
   "cell_type": "code",
   "execution_count": 74,
   "id": "06d8ddcb",
   "metadata": {
    "hidden": true
   },
   "outputs": [],
   "source": [
    "#internet packages.\n",
    "internet_raw = pd.read_csv(\n",
    "   '/Users/ericross/Desktop/Interconnect_churn_prediction/Data/origin_datasets/internet.csv')"
   ]
  },
  {
   "cell_type": "code",
   "execution_count": 75,
   "id": "a4cdd97f",
   "metadata": {
    "hidden": true
   },
   "outputs": [],
   "source": [
    "# landline plan: multiple lines/ 'yes or no'\n",
    "phone_raw = pd.read_csv(\n",
    "    '/Users/ericross/Desktop/Interconnect_churn_prediction/Data/origin_datasets/phone.csv')"
   ]
  },
  {
   "cell_type": "markdown",
   "id": "0c84280c",
   "metadata": {
    "hidden": true
   },
   "source": [
    "## Cleaning By DataFrame"
   ]
  },
  {
   "cell_type": "markdown",
   "id": "117e9756",
   "metadata": {
    "heading_collapsed": true,
    "hidden": true
   },
   "source": [
    "### Contract_Clean:"
   ]
  },
  {
   "cell_type": "markdown",
   "id": "4f636b7e",
   "metadata": {
    "heading_collapsed": true,
    "hidden": true
   },
   "source": [
    "##### Contract Summary"
   ]
  },
  {
   "cell_type": "markdown",
   "id": "f9120361",
   "metadata": {
    "hidden": true
   },
   "source": [
    "`TotalCharge` Contains 11 or ~0.15% empty values.\n",
    "1. understand the issue.\n",
    "    - get \"customer_ID\" for all missing values.\n",
    "    - fill with correct values, if possible, using the 'customer_ID' \n",
    "\n",
    "\n",
    "2. `EndDate` Contains \"No\" and Date values.\n",
    "    - `churn` - a column for the \"No\" values, filling the date values with \"Yes\"\n",
    "    - `EndDate` - fill \"No\" with the current date of date the data was validated. \n",
    "    \n",
    "\n",
    "\n",
    "3. `tenure` - new column \n",
    "    - number of months between start and end of service. "
   ]
  },
  {
   "cell_type": "markdown",
   "id": "9bd848d7",
   "metadata": {
    "heading_collapsed": true,
    "hidden": true
   },
   "source": [
    "##### Data Overveiw. "
   ]
  },
  {
   "cell_type": "code",
   "execution_count": 76,
   "id": "4b7d2847",
   "metadata": {
    "hidden": true,
    "scrolled": true
   },
   "outputs": [
    {
     "data": {
      "text/html": [
       "<div>\n",
       "<style scoped>\n",
       "    .dataframe tbody tr th:only-of-type {\n",
       "        vertical-align: middle;\n",
       "    }\n",
       "\n",
       "    .dataframe tbody tr th {\n",
       "        vertical-align: top;\n",
       "    }\n",
       "\n",
       "    .dataframe thead th {\n",
       "        text-align: right;\n",
       "    }\n",
       "</style>\n",
       "<table border=\"1\" class=\"dataframe\">\n",
       "  <thead>\n",
       "    <tr style=\"text-align: right;\">\n",
       "      <th></th>\n",
       "      <th>customerID</th>\n",
       "      <th>BeginDate</th>\n",
       "      <th>EndDate</th>\n",
       "      <th>Type</th>\n",
       "      <th>PaperlessBilling</th>\n",
       "      <th>PaymentMethod</th>\n",
       "      <th>MonthlyCharges</th>\n",
       "      <th>TotalCharges</th>\n",
       "    </tr>\n",
       "  </thead>\n",
       "  <tbody>\n",
       "    <tr>\n",
       "      <th>501</th>\n",
       "      <td>4513-CXYIX</td>\n",
       "      <td>2014-03-01</td>\n",
       "      <td>No</td>\n",
       "      <td>Two year</td>\n",
       "      <td>Yes</td>\n",
       "      <td>Credit card (automatic)</td>\n",
       "      <td>80.70</td>\n",
       "      <td>5676</td>\n",
       "    </tr>\n",
       "    <tr>\n",
       "      <th>6503</th>\n",
       "      <td>7781-EWARA</td>\n",
       "      <td>2014-04-01</td>\n",
       "      <td>No</td>\n",
       "      <td>One year</td>\n",
       "      <td>No</td>\n",
       "      <td>Electronic check</td>\n",
       "      <td>60.35</td>\n",
       "      <td>4138.7</td>\n",
       "    </tr>\n",
       "    <tr>\n",
       "      <th>4967</th>\n",
       "      <td>4398-HSCJH</td>\n",
       "      <td>2019-10-01</td>\n",
       "      <td>2020-01-01 00:00:00</td>\n",
       "      <td>Month-to-month</td>\n",
       "      <td>Yes</td>\n",
       "      <td>Electronic check</td>\n",
       "      <td>63.60</td>\n",
       "      <td>155.65</td>\n",
       "    </tr>\n",
       "    <tr>\n",
       "      <th>6087</th>\n",
       "      <td>8319-QBEHW</td>\n",
       "      <td>2017-12-01</td>\n",
       "      <td>No</td>\n",
       "      <td>One year</td>\n",
       "      <td>Yes</td>\n",
       "      <td>Bank transfer (automatic)</td>\n",
       "      <td>39.95</td>\n",
       "      <td>1023.75</td>\n",
       "    </tr>\n",
       "    <tr>\n",
       "      <th>4195</th>\n",
       "      <td>1768-HNVGJ</td>\n",
       "      <td>2016-05-01</td>\n",
       "      <td>No</td>\n",
       "      <td>Month-to-month</td>\n",
       "      <td>Yes</td>\n",
       "      <td>Electronic check</td>\n",
       "      <td>70.05</td>\n",
       "      <td>3062.45</td>\n",
       "    </tr>\n",
       "  </tbody>\n",
       "</table>\n",
       "</div>"
      ],
      "text/plain": [
       "      customerID  BeginDate              EndDate            Type  \\\n",
       "501   4513-CXYIX 2014-03-01                   No        Two year   \n",
       "6503  7781-EWARA 2014-04-01                   No        One year   \n",
       "4967  4398-HSCJH 2019-10-01  2020-01-01 00:00:00  Month-to-month   \n",
       "6087  8319-QBEHW 2017-12-01                   No        One year   \n",
       "4195  1768-HNVGJ 2016-05-01                   No  Month-to-month   \n",
       "\n",
       "     PaperlessBilling              PaymentMethod  MonthlyCharges TotalCharges  \n",
       "501               Yes    Credit card (automatic)           80.70         5676  \n",
       "6503               No           Electronic check           60.35       4138.7  \n",
       "4967              Yes           Electronic check           63.60       155.65  \n",
       "6087              Yes  Bank transfer (automatic)           39.95      1023.75  \n",
       "4195              Yes           Electronic check           70.05      3062.45  "
      ]
     },
     "execution_count": 76,
     "metadata": {},
     "output_type": "execute_result"
    }
   ],
   "source": [
    "contract_raw.sample(5)"
   ]
  },
  {
   "cell_type": "code",
   "execution_count": 77,
   "id": "f1607f8e",
   "metadata": {
    "hidden": true
   },
   "outputs": [
    {
     "name": "stdout",
     "output_type": "stream",
     "text": [
      "<class 'pandas.core.frame.DataFrame'>\n",
      "RangeIndex: 7043 entries, 0 to 7042\n",
      "Data columns (total 8 columns):\n",
      " #   Column            Non-Null Count  Dtype         \n",
      "---  ------            --------------  -----         \n",
      " 0   customerID        7043 non-null   object        \n",
      " 1   BeginDate         7043 non-null   datetime64[ns]\n",
      " 2   EndDate           7043 non-null   object        \n",
      " 3   Type              7043 non-null   object        \n",
      " 4   PaperlessBilling  7043 non-null   object        \n",
      " 5   PaymentMethod     7043 non-null   object        \n",
      " 6   MonthlyCharges    7043 non-null   float64       \n",
      " 7   TotalCharges      7043 non-null   object        \n",
      "dtypes: datetime64[ns](1), float64(1), object(6)\n",
      "memory usage: 440.3+ KB\n"
     ]
    }
   ],
   "source": [
    "contract_raw.info()"
   ]
  },
  {
   "cell_type": "code",
   "execution_count": 78,
   "id": "43518d1a",
   "metadata": {
    "hidden": true,
    "scrolled": true
   },
   "outputs": [
    {
     "name": "stdout",
     "output_type": "stream",
     "text": [
      "------ EndDate --------------------\n",
      "                     Count    %-Share\n",
      "EndDate                              \n",
      "No                    5174  73.463013\n",
      "2019-11-01 00:00:00    485   6.886270\n",
      "2019-12-01 00:00:00    466   6.616499\n",
      "2020-01-01 00:00:00    460   6.531308\n",
      "2019-10-01 00:00:00    458   6.502911\n",
      "\n",
      "------ Type --------------------\n",
      "                Count    %-Share\n",
      "Type                            \n",
      "Month-to-month   3875  55.019168\n",
      "Two year         1695  24.066449\n",
      "One year         1473  20.914383\n",
      "\n",
      "------ PaperlessBilling --------------------\n",
      "                  Count    %-Share\n",
      "PaperlessBilling                  \n",
      "Yes                4171  59.221922\n",
      "No                 2872  40.778078\n",
      "\n",
      "------ PaymentMethod --------------------\n",
      "                           Count    %-Share\n",
      "PaymentMethod                              \n",
      "Electronic check            2365  33.579441\n",
      "Mailed check                1612  22.887974\n",
      "Bank transfer (automatic)   1544  21.922476\n",
      "Credit card (automatic)     1522  21.610109\n",
      "\n"
     ]
    }
   ],
   "source": [
    "get_col_percent_share(contract_raw)"
   ]
  },
  {
   "cell_type": "markdown",
   "id": "60ad4415",
   "metadata": {
    "heading_collapsed": true,
    "hidden": true
   },
   "source": [
    "##### `contract_cleaned` - DataFrame where cleaning is preformed. "
   ]
  },
  {
   "cell_type": "code",
   "execution_count": 79,
   "id": "80521ae2",
   "metadata": {
    "hidden": true
   },
   "outputs": [],
   "source": [
    "contract_cleaned = contract_raw.copy()"
   ]
  },
  {
   "cell_type": "markdown",
   "id": "efbaf6f3",
   "metadata": {
    "hidden": true
   },
   "source": [
    "##### `EndDate` & `churn` - Target Columns "
   ]
  },
  {
   "cell_type": "code",
   "execution_count": 80,
   "id": "3387c9d4",
   "metadata": {
    "hidden": true,
    "scrolled": true
   },
   "outputs": [],
   "source": [
    "## 'is_churned' is \"No\" and \"Yes\" \n",
    "contract_cleaned['churn'] = contract_cleaned['EndDate']\n",
    "\n",
    "contract_cleaned.loc[contract_cleaned['churn'] != 'No', 'churn'] = \"Yes\"\n"
   ]
  },
  {
   "cell_type": "code",
   "execution_count": 81,
   "id": "d0b716f4",
   "metadata": {
    "hidden": true
   },
   "outputs": [
    {
     "data": {
      "text/plain": [
       "churn\n",
       "No     5174\n",
       "Yes    1869\n",
       "Name: count, dtype: int64"
      ]
     },
     "execution_count": 81,
     "metadata": {},
     "output_type": "execute_result"
    }
   ],
   "source": [
    "contract_cleaned.churn.value_counts()"
   ]
  },
  {
   "cell_type": "code",
   "execution_count": 82,
   "id": "92195ec9",
   "metadata": {
    "hidden": true
   },
   "outputs": [
    {
     "data": {
      "text/plain": [
       "Timestamp('2020-02-01 00:00:00')"
      ]
     },
     "execution_count": 82,
     "metadata": {},
     "output_type": "execute_result"
    }
   ],
   "source": [
    "contract_cleaned.BeginDate.max()"
   ]
  },
  {
   "cell_type": "code",
   "execution_count": 83,
   "id": "6cb2de98",
   "metadata": {
    "hidden": true,
    "scrolled": true
   },
   "outputs": [
    {
     "name": "stdout",
     "output_type": "stream",
     "text": [
      "Fill date, 2020-02-01\n"
     ]
    }
   ],
   "source": [
    "from datetime import datetime\n",
    "\n",
    "# define 'fill_date' \n",
    "## fill \"No\" with \"current or validation date\".\n",
    "\n",
    "fill_date = \"February 1, 2020\"\n",
    "\n",
    "\n",
    "\n",
    "date_object = datetime.strptime(fill_date, \"%B %d, %Y\")\n",
    "fill_date = date_object.strftime(\"%Y-%m-%d\")\n",
    "\n",
    "print('Fill date,', fill_date)\n",
    "\n",
    "# filled with current date. \n",
    "contract_cleaned.loc[contract_cleaned['EndDate'] == \"No\", 'EndDate'] = fill_date"
   ]
  },
  {
   "cell_type": "code",
   "execution_count": 84,
   "id": "436ac123",
   "metadata": {
    "hidden": true,
    "scrolled": false
   },
   "outputs": [
    {
     "data": {
      "text/html": [
       "<div>\n",
       "<style scoped>\n",
       "    .dataframe tbody tr th:only-of-type {\n",
       "        vertical-align: middle;\n",
       "    }\n",
       "\n",
       "    .dataframe tbody tr th {\n",
       "        vertical-align: top;\n",
       "    }\n",
       "\n",
       "    .dataframe thead th {\n",
       "        text-align: right;\n",
       "    }\n",
       "</style>\n",
       "<table border=\"1\" class=\"dataframe\">\n",
       "  <thead>\n",
       "    <tr style=\"text-align: right;\">\n",
       "      <th></th>\n",
       "      <th>EndDate</th>\n",
       "      <th>churn</th>\n",
       "    </tr>\n",
       "  </thead>\n",
       "  <tbody>\n",
       "    <tr>\n",
       "      <th>5163</th>\n",
       "      <td>2020-02-01</td>\n",
       "      <td>No</td>\n",
       "    </tr>\n",
       "    <tr>\n",
       "      <th>6919</th>\n",
       "      <td>2020-02-01</td>\n",
       "      <td>No</td>\n",
       "    </tr>\n",
       "    <tr>\n",
       "      <th>5037</th>\n",
       "      <td>2019-11-01 00:00:00</td>\n",
       "      <td>Yes</td>\n",
       "    </tr>\n",
       "    <tr>\n",
       "      <th>5521</th>\n",
       "      <td>2020-02-01</td>\n",
       "      <td>No</td>\n",
       "    </tr>\n",
       "    <tr>\n",
       "      <th>4144</th>\n",
       "      <td>2020-02-01</td>\n",
       "      <td>No</td>\n",
       "    </tr>\n",
       "  </tbody>\n",
       "</table>\n",
       "</div>"
      ],
      "text/plain": [
       "                  EndDate churn\n",
       "5163           2020-02-01    No\n",
       "6919           2020-02-01    No\n",
       "5037  2019-11-01 00:00:00   Yes\n",
       "5521           2020-02-01    No\n",
       "4144           2020-02-01    No"
      ]
     },
     "execution_count": 84,
     "metadata": {},
     "output_type": "execute_result"
    }
   ],
   "source": [
    "contract_cleaned[['EndDate','churn']].sample(5)"
   ]
  },
  {
   "cell_type": "markdown",
   "id": "7737897a",
   "metadata": {
    "hidden": true
   },
   "source": [
    "#####  `tenure`"
   ]
  },
  {
   "cell_type": "code",
   "execution_count": 85,
   "id": "c200f18f",
   "metadata": {
    "hidden": true
   },
   "outputs": [
    {
     "data": {
      "text/plain": [
       "0                2020-02-01\n",
       "1                2020-02-01\n",
       "2       2019-12-01 00:00:00\n",
       "3                2020-02-01\n",
       "4       2019-11-01 00:00:00\n",
       "               ...         \n",
       "7038             2020-02-01\n",
       "7039             2020-02-01\n",
       "7040             2020-02-01\n",
       "7041    2019-11-01 00:00:00\n",
       "7042             2020-02-01\n",
       "Name: EndDate, Length: 7043, dtype: object"
      ]
     },
     "execution_count": 85,
     "metadata": {},
     "output_type": "execute_result"
    }
   ],
   "source": [
    "contract_cleaned['EndDate']"
   ]
  },
  {
   "cell_type": "code",
   "execution_count": 86,
   "id": "c507ac53",
   "metadata": {
    "hidden": true,
    "scrolled": true
   },
   "outputs": [
    {
     "data": {
      "text/plain": [
       "6858    24\n",
       "1981    56\n",
       "5996    60\n",
       "2040    69\n",
       "3307    47\n",
       "Name: tenure, dtype: int64"
      ]
     },
     "execution_count": 86,
     "metadata": {},
     "output_type": "execute_result"
    }
   ],
   "source": [
    "contract_cleaned['EndDate'] = pd.to_datetime(contract_cleaned['EndDate'], format='mixed')\n",
    "contract_cleaned['BeginDate'] = pd.to_datetime(contract_cleaned['BeginDate'])\n",
    "\n",
    "contract_cleaned['tenure'] = ((contract_cleaned.EndDate - contract_cleaned.BeginDate) / np.timedelta64(1, 'M')).astype(int)                         \n",
    "contract_cleaned['tenure'].sample(5)"
   ]
  },
  {
   "cell_type": "code",
   "execution_count": 87,
   "id": "42d9d2d7",
   "metadata": {
    "hidden": true,
    "scrolled": false
   },
   "outputs": [
    {
     "name": "stdout",
     "output_type": "stream",
     "text": [
      "<class 'pandas.core.frame.DataFrame'>\n",
      "RangeIndex: 7043 entries, 0 to 7042\n",
      "Data columns (total 10 columns):\n",
      " #   Column            Non-Null Count  Dtype         \n",
      "---  ------            --------------  -----         \n",
      " 0   customerID        7043 non-null   object        \n",
      " 1   BeginDate         7043 non-null   datetime64[ns]\n",
      " 2   EndDate           7043 non-null   datetime64[ns]\n",
      " 3   Type              7043 non-null   object        \n",
      " 4   PaperlessBilling  7043 non-null   object        \n",
      " 5   PaymentMethod     7043 non-null   object        \n",
      " 6   MonthlyCharges    7043 non-null   float64       \n",
      " 7   TotalCharges      7043 non-null   object        \n",
      " 8   churn             7043 non-null   object        \n",
      " 9   tenure            7043 non-null   int64         \n",
      "dtypes: datetime64[ns](2), float64(1), int64(1), object(6)\n",
      "memory usage: 550.4+ KB\n"
     ]
    }
   ],
   "source": [
    "contract_cleaned.info()"
   ]
  },
  {
   "cell_type": "markdown",
   "id": "8f916732",
   "metadata": {
    "hidden": true
   },
   "source": [
    "##### `TotalCharges` - some values are empty causing issues "
   ]
  },
  {
   "cell_type": "code",
   "execution_count": 88,
   "id": "1d0b7609",
   "metadata": {
    "hidden": true,
    "scrolled": false
   },
   "outputs": [],
   "source": [
    "contract_cleaned['TotalCharges'] = contract_cleaned[\"TotalCharges\"].replace(\" \",np.nan)"
   ]
  },
  {
   "cell_type": "code",
   "execution_count": 89,
   "id": "7df0b600",
   "metadata": {
    "hidden": true
   },
   "outputs": [
    {
     "data": {
      "text/plain": [
       "customerID           0\n",
       "BeginDate            0\n",
       "EndDate              0\n",
       "Type                 0\n",
       "PaperlessBilling     0\n",
       "PaymentMethod        0\n",
       "MonthlyCharges       0\n",
       "TotalCharges        11\n",
       "churn                0\n",
       "tenure               0\n",
       "dtype: int64"
      ]
     },
     "execution_count": 89,
     "metadata": {},
     "output_type": "execute_result"
    }
   ],
   "source": [
    "contract_cleaned.isna().sum()"
   ]
  },
  {
   "cell_type": "code",
   "execution_count": 90,
   "id": "d50a43ca",
   "metadata": {
    "hidden": true
   },
   "outputs": [
    {
     "name": "stdout",
     "output_type": "stream",
     "text": [
      "Share of Customers w/ missing info: ~0.16%\n"
     ]
    }
   ],
   "source": [
    "per_share = (11/7043)*100\n",
    "\n",
    "print(f'Share of Customers w/ missing info: ~{per_share:.2f}%')"
   ]
  },
  {
   "cell_type": "code",
   "execution_count": 91,
   "id": "dd498a8b",
   "metadata": {
    "hidden": true,
    "scrolled": true
   },
   "outputs": [
    {
     "data": {
      "text/html": [
       "<div>\n",
       "<style scoped>\n",
       "    .dataframe tbody tr th:only-of-type {\n",
       "        vertical-align: middle;\n",
       "    }\n",
       "\n",
       "    .dataframe tbody tr th {\n",
       "        vertical-align: top;\n",
       "    }\n",
       "\n",
       "    .dataframe thead th {\n",
       "        text-align: right;\n",
       "    }\n",
       "</style>\n",
       "<table border=\"1\" class=\"dataframe\">\n",
       "  <thead>\n",
       "    <tr style=\"text-align: right;\">\n",
       "      <th></th>\n",
       "      <th>customerID</th>\n",
       "      <th>BeginDate</th>\n",
       "      <th>EndDate</th>\n",
       "      <th>Type</th>\n",
       "      <th>PaperlessBilling</th>\n",
       "      <th>PaymentMethod</th>\n",
       "      <th>MonthlyCharges</th>\n",
       "      <th>TotalCharges</th>\n",
       "      <th>churn</th>\n",
       "      <th>tenure</th>\n",
       "    </tr>\n",
       "  </thead>\n",
       "  <tbody>\n",
       "    <tr>\n",
       "      <th>488</th>\n",
       "      <td>4472-LVYGI</td>\n",
       "      <td>2020-02-01</td>\n",
       "      <td>2020-02-01</td>\n",
       "      <td>Two year</td>\n",
       "      <td>Yes</td>\n",
       "      <td>Bank transfer (automatic)</td>\n",
       "      <td>52.55</td>\n",
       "      <td>NaN</td>\n",
       "      <td>No</td>\n",
       "      <td>0</td>\n",
       "    </tr>\n",
       "    <tr>\n",
       "      <th>753</th>\n",
       "      <td>3115-CZMZD</td>\n",
       "      <td>2020-02-01</td>\n",
       "      <td>2020-02-01</td>\n",
       "      <td>Two year</td>\n",
       "      <td>No</td>\n",
       "      <td>Mailed check</td>\n",
       "      <td>20.25</td>\n",
       "      <td>NaN</td>\n",
       "      <td>No</td>\n",
       "      <td>0</td>\n",
       "    </tr>\n",
       "    <tr>\n",
       "      <th>936</th>\n",
       "      <td>5709-LVOEQ</td>\n",
       "      <td>2020-02-01</td>\n",
       "      <td>2020-02-01</td>\n",
       "      <td>Two year</td>\n",
       "      <td>No</td>\n",
       "      <td>Mailed check</td>\n",
       "      <td>80.85</td>\n",
       "      <td>NaN</td>\n",
       "      <td>No</td>\n",
       "      <td>0</td>\n",
       "    </tr>\n",
       "    <tr>\n",
       "      <th>1082</th>\n",
       "      <td>4367-NUYAO</td>\n",
       "      <td>2020-02-01</td>\n",
       "      <td>2020-02-01</td>\n",
       "      <td>Two year</td>\n",
       "      <td>No</td>\n",
       "      <td>Mailed check</td>\n",
       "      <td>25.75</td>\n",
       "      <td>NaN</td>\n",
       "      <td>No</td>\n",
       "      <td>0</td>\n",
       "    </tr>\n",
       "    <tr>\n",
       "      <th>1340</th>\n",
       "      <td>1371-DWPAZ</td>\n",
       "      <td>2020-02-01</td>\n",
       "      <td>2020-02-01</td>\n",
       "      <td>Two year</td>\n",
       "      <td>No</td>\n",
       "      <td>Credit card (automatic)</td>\n",
       "      <td>56.05</td>\n",
       "      <td>NaN</td>\n",
       "      <td>No</td>\n",
       "      <td>0</td>\n",
       "    </tr>\n",
       "    <tr>\n",
       "      <th>3331</th>\n",
       "      <td>7644-OMVMY</td>\n",
       "      <td>2020-02-01</td>\n",
       "      <td>2020-02-01</td>\n",
       "      <td>Two year</td>\n",
       "      <td>No</td>\n",
       "      <td>Mailed check</td>\n",
       "      <td>19.85</td>\n",
       "      <td>NaN</td>\n",
       "      <td>No</td>\n",
       "      <td>0</td>\n",
       "    </tr>\n",
       "    <tr>\n",
       "      <th>3826</th>\n",
       "      <td>3213-VVOLG</td>\n",
       "      <td>2020-02-01</td>\n",
       "      <td>2020-02-01</td>\n",
       "      <td>Two year</td>\n",
       "      <td>No</td>\n",
       "      <td>Mailed check</td>\n",
       "      <td>25.35</td>\n",
       "      <td>NaN</td>\n",
       "      <td>No</td>\n",
       "      <td>0</td>\n",
       "    </tr>\n",
       "    <tr>\n",
       "      <th>4380</th>\n",
       "      <td>2520-SGTTA</td>\n",
       "      <td>2020-02-01</td>\n",
       "      <td>2020-02-01</td>\n",
       "      <td>Two year</td>\n",
       "      <td>No</td>\n",
       "      <td>Mailed check</td>\n",
       "      <td>20.00</td>\n",
       "      <td>NaN</td>\n",
       "      <td>No</td>\n",
       "      <td>0</td>\n",
       "    </tr>\n",
       "    <tr>\n",
       "      <th>5218</th>\n",
       "      <td>2923-ARZLG</td>\n",
       "      <td>2020-02-01</td>\n",
       "      <td>2020-02-01</td>\n",
       "      <td>One year</td>\n",
       "      <td>Yes</td>\n",
       "      <td>Mailed check</td>\n",
       "      <td>19.70</td>\n",
       "      <td>NaN</td>\n",
       "      <td>No</td>\n",
       "      <td>0</td>\n",
       "    </tr>\n",
       "    <tr>\n",
       "      <th>6670</th>\n",
       "      <td>4075-WKNIU</td>\n",
       "      <td>2020-02-01</td>\n",
       "      <td>2020-02-01</td>\n",
       "      <td>Two year</td>\n",
       "      <td>No</td>\n",
       "      <td>Mailed check</td>\n",
       "      <td>73.35</td>\n",
       "      <td>NaN</td>\n",
       "      <td>No</td>\n",
       "      <td>0</td>\n",
       "    </tr>\n",
       "    <tr>\n",
       "      <th>6754</th>\n",
       "      <td>2775-SEFEE</td>\n",
       "      <td>2020-02-01</td>\n",
       "      <td>2020-02-01</td>\n",
       "      <td>Two year</td>\n",
       "      <td>Yes</td>\n",
       "      <td>Bank transfer (automatic)</td>\n",
       "      <td>61.90</td>\n",
       "      <td>NaN</td>\n",
       "      <td>No</td>\n",
       "      <td>0</td>\n",
       "    </tr>\n",
       "  </tbody>\n",
       "</table>\n",
       "</div>"
      ],
      "text/plain": [
       "      customerID  BeginDate    EndDate      Type PaperlessBilling  \\\n",
       "488   4472-LVYGI 2020-02-01 2020-02-01  Two year              Yes   \n",
       "753   3115-CZMZD 2020-02-01 2020-02-01  Two year               No   \n",
       "936   5709-LVOEQ 2020-02-01 2020-02-01  Two year               No   \n",
       "1082  4367-NUYAO 2020-02-01 2020-02-01  Two year               No   \n",
       "1340  1371-DWPAZ 2020-02-01 2020-02-01  Two year               No   \n",
       "3331  7644-OMVMY 2020-02-01 2020-02-01  Two year               No   \n",
       "3826  3213-VVOLG 2020-02-01 2020-02-01  Two year               No   \n",
       "4380  2520-SGTTA 2020-02-01 2020-02-01  Two year               No   \n",
       "5218  2923-ARZLG 2020-02-01 2020-02-01  One year              Yes   \n",
       "6670  4075-WKNIU 2020-02-01 2020-02-01  Two year               No   \n",
       "6754  2775-SEFEE 2020-02-01 2020-02-01  Two year              Yes   \n",
       "\n",
       "                  PaymentMethod  MonthlyCharges TotalCharges churn  tenure  \n",
       "488   Bank transfer (automatic)           52.55          NaN    No       0  \n",
       "753                Mailed check           20.25          NaN    No       0  \n",
       "936                Mailed check           80.85          NaN    No       0  \n",
       "1082               Mailed check           25.75          NaN    No       0  \n",
       "1340    Credit card (automatic)           56.05          NaN    No       0  \n",
       "3331               Mailed check           19.85          NaN    No       0  \n",
       "3826               Mailed check           25.35          NaN    No       0  \n",
       "4380               Mailed check           20.00          NaN    No       0  \n",
       "5218               Mailed check           19.70          NaN    No       0  \n",
       "6670               Mailed check           73.35          NaN    No       0  \n",
       "6754  Bank transfer (automatic)           61.90          NaN    No       0  "
      ]
     },
     "execution_count": 91,
     "metadata": {},
     "output_type": "execute_result"
    }
   ],
   "source": [
    "missing_list = contract_cleaned.loc[contract_cleaned['TotalCharges'].isna(),\"customerID\"]\n",
    "contract_cleaned.loc[contract_cleaned['customerID'].isin(missing_list)]"
   ]
  },
  {
   "cell_type": "code",
   "execution_count": 92,
   "id": "d3a78806",
   "metadata": {
    "hidden": true,
    "scrolled": true
   },
   "outputs": [],
   "source": [
    "charges_missing = contract_cleaned.loc[contract_cleaned['TotalCharges'].isna(), 'MonthlyCharges']\n",
    "contract_cleaned.loc[contract_cleaned['TotalCharges'].isna(), 'TotalCharges'] = charges_missing.fillna(0)"
   ]
  },
  {
   "cell_type": "code",
   "execution_count": 93,
   "id": "542e901c",
   "metadata": {
    "hidden": true
   },
   "outputs": [],
   "source": [
    "contract_cleaned['TotalCharges'] = pd.to_numeric(contract_cleaned['TotalCharges'], errors='coerce',downcast='float')"
   ]
  },
  {
   "cell_type": "code",
   "execution_count": 94,
   "id": "e9d22232",
   "metadata": {
    "hidden": true,
    "scrolled": true
   },
   "outputs": [
    {
     "name": "stdout",
     "output_type": "stream",
     "text": [
      "<class 'pandas.core.frame.DataFrame'>\n",
      "RangeIndex: 7043 entries, 0 to 7042\n",
      "Data columns (total 10 columns):\n",
      " #   Column            Non-Null Count  Dtype         \n",
      "---  ------            --------------  -----         \n",
      " 0   customerID        7043 non-null   object        \n",
      " 1   BeginDate         7043 non-null   datetime64[ns]\n",
      " 2   EndDate           7043 non-null   datetime64[ns]\n",
      " 3   Type              7043 non-null   object        \n",
      " 4   PaperlessBilling  7043 non-null   object        \n",
      " 5   PaymentMethod     7043 non-null   object        \n",
      " 6   MonthlyCharges    7043 non-null   float64       \n",
      " 7   TotalCharges      7043 non-null   float32       \n",
      " 8   churn             7043 non-null   object        \n",
      " 9   tenure            7043 non-null   int64         \n",
      "dtypes: datetime64[ns](2), float32(1), float64(1), int64(1), object(5)\n",
      "memory usage: 522.8+ KB\n"
     ]
    }
   ],
   "source": [
    "contract_cleaned.info()"
   ]
  },
  {
   "cell_type": "code",
   "execution_count": 95,
   "id": "c640c40d",
   "metadata": {
    "hidden": true,
    "scrolled": false
   },
   "outputs": [
    {
     "data": {
      "text/plain": [
       "((7043, 8), (7043, 10))"
      ]
     },
     "execution_count": 95,
     "metadata": {},
     "output_type": "execute_result"
    }
   ],
   "source": [
    "contract_raw.shape, contract_cleaned.shape"
   ]
  },
  {
   "cell_type": "markdown",
   "id": "779af309",
   "metadata": {
    "heading_collapsed": true,
    "hidden": true
   },
   "source": [
    "### Contract Conclusion"
   ]
  },
  {
   "cell_type": "markdown",
   "id": "8b1be45c",
   "metadata": {
    "hidden": true
   },
   "source": [
    "Data overview:\n",
    "\n",
    "- Major class imbalance in target column 73.463013% are not Churned.\n",
    "    - Stratify= 'y' -(*target values*) \n",
    "    - Sampling methods.\n",
    "\n",
    "- (55.019168%) of  \"Type\" are month to month. \n",
    "\n",
    "- (automatic) payment options are less popular, with Churn for subscription, it is understood that type of payments are highly determinant of churn risk. \n",
    "    - a possible strategy could be to suggest insentives for automatic payments for customers with higher churn risks.  \n",
    "    \n",
    "Corrections and Changes:\n",
    "\n",
    "- `contract_cleaned`-features resulting from the operations\n",
    "    - 2 columns added  \n",
    "\n",
    "Columns added:\n",
    "\n",
    "- 'churned' == new target  \n",
    "- 'tenure' ==  months between 'BeginDate' and 'EndDate'"
   ]
  },
  {
   "cell_type": "markdown",
   "id": "7cb9cc24",
   "metadata": {
    "heading_collapsed": true,
    "hidden": true
   },
   "source": [
    "## Personal_Clean:"
   ]
  },
  {
   "cell_type": "markdown",
   "id": "7975391c",
   "metadata": {
    "hidden": true
   },
   "source": [
    "##### Data Overview. "
   ]
  },
  {
   "cell_type": "code",
   "execution_count": 96,
   "id": "3c5dc6c6",
   "metadata": {
    "hidden": true
   },
   "outputs": [],
   "source": [
    "personal_cleaned = personal_raw.copy()"
   ]
  },
  {
   "cell_type": "code",
   "execution_count": 97,
   "id": "62242ccf",
   "metadata": {
    "hidden": true,
    "scrolled": false
   },
   "outputs": [
    {
     "data": {
      "text/html": [
       "<div>\n",
       "<style scoped>\n",
       "    .dataframe tbody tr th:only-of-type {\n",
       "        vertical-align: middle;\n",
       "    }\n",
       "\n",
       "    .dataframe tbody tr th {\n",
       "        vertical-align: top;\n",
       "    }\n",
       "\n",
       "    .dataframe thead th {\n",
       "        text-align: right;\n",
       "    }\n",
       "</style>\n",
       "<table border=\"1\" class=\"dataframe\">\n",
       "  <thead>\n",
       "    <tr style=\"text-align: right;\">\n",
       "      <th></th>\n",
       "      <th>customerID</th>\n",
       "      <th>gender</th>\n",
       "      <th>SeniorCitizen</th>\n",
       "      <th>Partner</th>\n",
       "      <th>Dependents</th>\n",
       "    </tr>\n",
       "  </thead>\n",
       "  <tbody>\n",
       "    <tr>\n",
       "      <th>0</th>\n",
       "      <td>7590-VHVEG</td>\n",
       "      <td>Female</td>\n",
       "      <td>0</td>\n",
       "      <td>Yes</td>\n",
       "      <td>No</td>\n",
       "    </tr>\n",
       "    <tr>\n",
       "      <th>1</th>\n",
       "      <td>5575-GNVDE</td>\n",
       "      <td>Male</td>\n",
       "      <td>0</td>\n",
       "      <td>No</td>\n",
       "      <td>No</td>\n",
       "    </tr>\n",
       "    <tr>\n",
       "      <th>2</th>\n",
       "      <td>3668-QPYBK</td>\n",
       "      <td>Male</td>\n",
       "      <td>0</td>\n",
       "      <td>No</td>\n",
       "      <td>No</td>\n",
       "    </tr>\n",
       "    <tr>\n",
       "      <th>3</th>\n",
       "      <td>7795-CFOCW</td>\n",
       "      <td>Male</td>\n",
       "      <td>0</td>\n",
       "      <td>No</td>\n",
       "      <td>No</td>\n",
       "    </tr>\n",
       "    <tr>\n",
       "      <th>4</th>\n",
       "      <td>9237-HQITU</td>\n",
       "      <td>Female</td>\n",
       "      <td>0</td>\n",
       "      <td>No</td>\n",
       "      <td>No</td>\n",
       "    </tr>\n",
       "  </tbody>\n",
       "</table>\n",
       "</div>"
      ],
      "text/plain": [
       "   customerID  gender  SeniorCitizen Partner Dependents\n",
       "0  7590-VHVEG  Female              0     Yes         No\n",
       "1  5575-GNVDE    Male              0      No         No\n",
       "2  3668-QPYBK    Male              0      No         No\n",
       "3  7795-CFOCW    Male              0      No         No\n",
       "4  9237-HQITU  Female              0      No         No"
      ]
     },
     "execution_count": 97,
     "metadata": {},
     "output_type": "execute_result"
    }
   ],
   "source": [
    "personal_cleaned.head()"
   ]
  },
  {
   "cell_type": "code",
   "execution_count": 98,
   "id": "61588038",
   "metadata": {
    "hidden": true,
    "scrolled": true
   },
   "outputs": [
    {
     "name": "stdout",
     "output_type": "stream",
     "text": [
      "<class 'pandas.core.frame.DataFrame'>\n",
      "RangeIndex: 7043 entries, 0 to 7042\n",
      "Data columns (total 5 columns):\n",
      " #   Column         Non-Null Count  Dtype \n",
      "---  ------         --------------  ----- \n",
      " 0   customerID     7043 non-null   object\n",
      " 1   gender         7043 non-null   object\n",
      " 2   SeniorCitizen  7043 non-null   int64 \n",
      " 3   Partner        7043 non-null   object\n",
      " 4   Dependents     7043 non-null   object\n",
      "dtypes: int64(1), object(4)\n",
      "memory usage: 275.2+ KB\n"
     ]
    }
   ],
   "source": [
    "personal_cleaned.info()"
   ]
  },
  {
   "cell_type": "code",
   "execution_count": 99,
   "id": "cc543264",
   "metadata": {
    "hidden": true,
    "scrolled": true
   },
   "outputs": [
    {
     "name": "stdout",
     "output_type": "stream",
     "text": [
      "------ gender --------------------\n",
      "        Count   %-Share\n",
      "gender                 \n",
      "Male     3555  50.47565\n",
      "Female   3488  49.52435\n",
      "\n",
      "------ Partner --------------------\n",
      "         Count   %-Share\n",
      "Partner                 \n",
      "No        3641  51.69672\n",
      "Yes       3402  48.30328\n",
      "\n",
      "------ Dependents --------------------\n",
      "            Count    %-Share\n",
      "Dependents                  \n",
      "No           4933  70.041176\n",
      "Yes          2110  29.958824\n",
      "\n"
     ]
    }
   ],
   "source": [
    "get_col_percent_share(personal_cleaned)"
   ]
  },
  {
   "cell_type": "markdown",
   "id": "0060042c",
   "metadata": {
    "hidden": true
   },
   "source": [
    "##### Personal conclusion - \"Dependent\"- has a major imbalance. "
   ]
  },
  {
   "cell_type": "markdown",
   "id": "34a3be6a",
   "metadata": {
    "heading_collapsed": true,
    "hidden": true
   },
   "source": [
    "## Internet_Cleaned:"
   ]
  },
  {
   "cell_type": "markdown",
   "id": "3b2d743f",
   "metadata": {
    "hidden": true
   },
   "source": [
    "##### Data preview"
   ]
  },
  {
   "cell_type": "code",
   "execution_count": 100,
   "id": "1cac4bff",
   "metadata": {
    "hidden": true
   },
   "outputs": [],
   "source": [
    "internet_cleaned = internet_raw.copy()"
   ]
  },
  {
   "cell_type": "code",
   "execution_count": 101,
   "id": "7d0edba5",
   "metadata": {
    "hidden": true
   },
   "outputs": [
    {
     "data": {
      "text/html": [
       "<div>\n",
       "<style scoped>\n",
       "    .dataframe tbody tr th:only-of-type {\n",
       "        vertical-align: middle;\n",
       "    }\n",
       "\n",
       "    .dataframe tbody tr th {\n",
       "        vertical-align: top;\n",
       "    }\n",
       "\n",
       "    .dataframe thead th {\n",
       "        text-align: right;\n",
       "    }\n",
       "</style>\n",
       "<table border=\"1\" class=\"dataframe\">\n",
       "  <thead>\n",
       "    <tr style=\"text-align: right;\">\n",
       "      <th></th>\n",
       "      <th>customerID</th>\n",
       "      <th>InternetService</th>\n",
       "      <th>OnlineSecurity</th>\n",
       "      <th>OnlineBackup</th>\n",
       "      <th>DeviceProtection</th>\n",
       "      <th>TechSupport</th>\n",
       "      <th>StreamingTV</th>\n",
       "      <th>StreamingMovies</th>\n",
       "    </tr>\n",
       "  </thead>\n",
       "  <tbody>\n",
       "    <tr>\n",
       "      <th>4503</th>\n",
       "      <td>8679-LZBMD</td>\n",
       "      <td>Fiber optic</td>\n",
       "      <td>No</td>\n",
       "      <td>No</td>\n",
       "      <td>No</td>\n",
       "      <td>No</td>\n",
       "      <td>Yes</td>\n",
       "      <td>Yes</td>\n",
       "    </tr>\n",
       "    <tr>\n",
       "      <th>3144</th>\n",
       "      <td>2969-WGHQO</td>\n",
       "      <td>DSL</td>\n",
       "      <td>Yes</td>\n",
       "      <td>Yes</td>\n",
       "      <td>Yes</td>\n",
       "      <td>No</td>\n",
       "      <td>Yes</td>\n",
       "      <td>No</td>\n",
       "    </tr>\n",
       "    <tr>\n",
       "      <th>4555</th>\n",
       "      <td>4976-LNFVV</td>\n",
       "      <td>DSL</td>\n",
       "      <td>No</td>\n",
       "      <td>Yes</td>\n",
       "      <td>Yes</td>\n",
       "      <td>No</td>\n",
       "      <td>No</td>\n",
       "      <td>No</td>\n",
       "    </tr>\n",
       "    <tr>\n",
       "      <th>2910</th>\n",
       "      <td>8468-EHYJA</td>\n",
       "      <td>Fiber optic</td>\n",
       "      <td>Yes</td>\n",
       "      <td>No</td>\n",
       "      <td>No</td>\n",
       "      <td>No</td>\n",
       "      <td>Yes</td>\n",
       "      <td>Yes</td>\n",
       "    </tr>\n",
       "    <tr>\n",
       "      <th>3859</th>\n",
       "      <td>2626-URJFX</td>\n",
       "      <td>DSL</td>\n",
       "      <td>No</td>\n",
       "      <td>No</td>\n",
       "      <td>No</td>\n",
       "      <td>No</td>\n",
       "      <td>No</td>\n",
       "      <td>No</td>\n",
       "    </tr>\n",
       "  </tbody>\n",
       "</table>\n",
       "</div>"
      ],
      "text/plain": [
       "      customerID InternetService OnlineSecurity OnlineBackup DeviceProtection  \\\n",
       "4503  8679-LZBMD     Fiber optic             No           No               No   \n",
       "3144  2969-WGHQO             DSL            Yes          Yes              Yes   \n",
       "4555  4976-LNFVV             DSL             No          Yes              Yes   \n",
       "2910  8468-EHYJA     Fiber optic            Yes           No               No   \n",
       "3859  2626-URJFX             DSL             No           No               No   \n",
       "\n",
       "     TechSupport StreamingTV StreamingMovies  \n",
       "4503          No         Yes             Yes  \n",
       "3144          No         Yes              No  \n",
       "4555          No          No              No  \n",
       "2910          No         Yes             Yes  \n",
       "3859          No          No              No  "
      ]
     },
     "execution_count": 101,
     "metadata": {},
     "output_type": "execute_result"
    }
   ],
   "source": [
    "internet_cleaned.sample(5)"
   ]
  },
  {
   "cell_type": "code",
   "execution_count": 102,
   "id": "f445cf9a",
   "metadata": {
    "hidden": true,
    "scrolled": false
   },
   "outputs": [
    {
     "name": "stdout",
     "output_type": "stream",
     "text": [
      "------ InternetService --------------------\n",
      "                 Count    %-Share\n",
      "InternetService                  \n",
      "Fiber optic       3096  56.117455\n",
      "DSL               2421  43.882545\n",
      "\n",
      "------ OnlineSecurity --------------------\n",
      "                Count    %-Share\n",
      "OnlineSecurity                  \n",
      "No               3498  63.404024\n",
      "Yes              2019  36.595976\n",
      "\n",
      "------ OnlineBackup --------------------\n",
      "              Count    %-Share\n",
      "OnlineBackup                  \n",
      "No             3088  55.972449\n",
      "Yes            2429  44.027551\n",
      "\n",
      "------ DeviceProtection --------------------\n",
      "                  Count    %-Share\n",
      "DeviceProtection                  \n",
      "No                 3095  56.099329\n",
      "Yes                2422  43.900671\n",
      "\n",
      "------ TechSupport --------------------\n",
      "             Count    %-Share\n",
      "TechSupport                  \n",
      "No            3473  62.950879\n",
      "Yes           2044  37.049121\n",
      "\n",
      "------ StreamingTV --------------------\n",
      "             Count    %-Share\n",
      "StreamingTV                  \n",
      "No            2810  50.933478\n",
      "Yes           2707  49.066522\n",
      "\n",
      "------ StreamingMovies --------------------\n",
      "                 Count    %-Share\n",
      "StreamingMovies                  \n",
      "No                2785  50.480334\n",
      "Yes               2732  49.519666\n",
      "\n"
     ]
    }
   ],
   "source": [
    "get_col_percent_share(internet_cleaned)"
   ]
  },
  {
   "cell_type": "code",
   "execution_count": 103,
   "id": "5eb6e76d",
   "metadata": {
    "hidden": true,
    "scrolled": true
   },
   "outputs": [
    {
     "data": {
      "text/html": [
       "<div>\n",
       "<style scoped>\n",
       "    .dataframe tbody tr th:only-of-type {\n",
       "        vertical-align: middle;\n",
       "    }\n",
       "\n",
       "    .dataframe tbody tr th {\n",
       "        vertical-align: top;\n",
       "    }\n",
       "\n",
       "    .dataframe thead th {\n",
       "        text-align: right;\n",
       "    }\n",
       "</style>\n",
       "<table border=\"1\" class=\"dataframe\">\n",
       "  <thead>\n",
       "    <tr style=\"text-align: right;\">\n",
       "      <th></th>\n",
       "      <th>customerID</th>\n",
       "      <th>InternetService</th>\n",
       "      <th>OnlineSecurity</th>\n",
       "      <th>OnlineBackup</th>\n",
       "      <th>DeviceProtection</th>\n",
       "      <th>TechSupport</th>\n",
       "      <th>StreamingTV</th>\n",
       "      <th>StreamingMovies</th>\n",
       "    </tr>\n",
       "  </thead>\n",
       "  <tbody>\n",
       "    <tr>\n",
       "      <th>2512</th>\n",
       "      <td>6869-FGJJC</td>\n",
       "      <td>Fiber optic</td>\n",
       "      <td>No</td>\n",
       "      <td>Yes</td>\n",
       "      <td>Yes</td>\n",
       "      <td>No</td>\n",
       "      <td>No</td>\n",
       "      <td>No</td>\n",
       "    </tr>\n",
       "    <tr>\n",
       "      <th>2362</th>\n",
       "      <td>6214-EDAKZ</td>\n",
       "      <td>DSL</td>\n",
       "      <td>No</td>\n",
       "      <td>Yes</td>\n",
       "      <td>No</td>\n",
       "      <td>Yes</td>\n",
       "      <td>No</td>\n",
       "      <td>No</td>\n",
       "    </tr>\n",
       "    <tr>\n",
       "      <th>1531</th>\n",
       "      <td>0564-MUUQK</td>\n",
       "      <td>Fiber optic</td>\n",
       "      <td>No</td>\n",
       "      <td>No</td>\n",
       "      <td>Yes</td>\n",
       "      <td>Yes</td>\n",
       "      <td>No</td>\n",
       "      <td>Yes</td>\n",
       "    </tr>\n",
       "    <tr>\n",
       "      <th>3563</th>\n",
       "      <td>9415-TPKRV</td>\n",
       "      <td>DSL</td>\n",
       "      <td>No</td>\n",
       "      <td>Yes</td>\n",
       "      <td>No</td>\n",
       "      <td>No</td>\n",
       "      <td>No</td>\n",
       "      <td>No</td>\n",
       "    </tr>\n",
       "    <tr>\n",
       "      <th>1382</th>\n",
       "      <td>4137-JOPHL</td>\n",
       "      <td>Fiber optic</td>\n",
       "      <td>No</td>\n",
       "      <td>No</td>\n",
       "      <td>Yes</td>\n",
       "      <td>Yes</td>\n",
       "      <td>No</td>\n",
       "      <td>Yes</td>\n",
       "    </tr>\n",
       "  </tbody>\n",
       "</table>\n",
       "</div>"
      ],
      "text/plain": [
       "      customerID InternetService OnlineSecurity OnlineBackup DeviceProtection  \\\n",
       "2512  6869-FGJJC     Fiber optic             No          Yes              Yes   \n",
       "2362  6214-EDAKZ             DSL             No          Yes               No   \n",
       "1531  0564-MUUQK     Fiber optic             No           No              Yes   \n",
       "3563  9415-TPKRV             DSL             No          Yes               No   \n",
       "1382  4137-JOPHL     Fiber optic             No           No              Yes   \n",
       "\n",
       "     TechSupport StreamingTV StreamingMovies  \n",
       "2512          No          No              No  \n",
       "2362         Yes          No              No  \n",
       "1531         Yes          No             Yes  \n",
       "3563          No          No              No  \n",
       "1382         Yes          No             Yes  "
      ]
     },
     "execution_count": 103,
     "metadata": {},
     "output_type": "execute_result"
    }
   ],
   "source": [
    "internet_cleaned.sample(5)"
   ]
  },
  {
   "cell_type": "markdown",
   "id": "cfea190a",
   "metadata": {
    "heading_collapsed": true,
    "hidden": true
   },
   "source": [
    "## Phone_Cleaned:        "
   ]
  },
  {
   "cell_type": "markdown",
   "id": "da8f819a",
   "metadata": {
    "hidden": true
   },
   "source": [
    "##### Data Preview "
   ]
  },
  {
   "cell_type": "code",
   "execution_count": 104,
   "id": "3b5b0614",
   "metadata": {
    "hidden": true,
    "scrolled": false
   },
   "outputs": [],
   "source": [
    "phone_cleaned = phone_raw.copy()"
   ]
  },
  {
   "cell_type": "code",
   "execution_count": 105,
   "id": "e7617c03",
   "metadata": {
    "hidden": true,
    "scrolled": true
   },
   "outputs": [
    {
     "data": {
      "text/html": [
       "<div>\n",
       "<style scoped>\n",
       "    .dataframe tbody tr th:only-of-type {\n",
       "        vertical-align: middle;\n",
       "    }\n",
       "\n",
       "    .dataframe tbody tr th {\n",
       "        vertical-align: top;\n",
       "    }\n",
       "\n",
       "    .dataframe thead th {\n",
       "        text-align: right;\n",
       "    }\n",
       "</style>\n",
       "<table border=\"1\" class=\"dataframe\">\n",
       "  <thead>\n",
       "    <tr style=\"text-align: right;\">\n",
       "      <th></th>\n",
       "      <th>customerID</th>\n",
       "      <th>MultipleLines</th>\n",
       "    </tr>\n",
       "  </thead>\n",
       "  <tbody>\n",
       "    <tr>\n",
       "      <th>26</th>\n",
       "      <td>4929-XIHVW</td>\n",
       "      <td>No</td>\n",
       "    </tr>\n",
       "    <tr>\n",
       "      <th>2632</th>\n",
       "      <td>6652-YFFJO</td>\n",
       "      <td>No</td>\n",
       "    </tr>\n",
       "    <tr>\n",
       "      <th>4735</th>\n",
       "      <td>6854-EXGSF</td>\n",
       "      <td>Yes</td>\n",
       "    </tr>\n",
       "    <tr>\n",
       "      <th>3647</th>\n",
       "      <td>4006-HKYHO</td>\n",
       "      <td>No</td>\n",
       "    </tr>\n",
       "    <tr>\n",
       "      <th>4077</th>\n",
       "      <td>7853-WNZSY</td>\n",
       "      <td>No</td>\n",
       "    </tr>\n",
       "  </tbody>\n",
       "</table>\n",
       "</div>"
      ],
      "text/plain": [
       "      customerID MultipleLines\n",
       "26    4929-XIHVW            No\n",
       "2632  6652-YFFJO            No\n",
       "4735  6854-EXGSF           Yes\n",
       "3647  4006-HKYHO            No\n",
       "4077  7853-WNZSY            No"
      ]
     },
     "execution_count": 105,
     "metadata": {},
     "output_type": "execute_result"
    }
   ],
   "source": [
    "phone_cleaned.sample(5)"
   ]
  },
  {
   "cell_type": "code",
   "execution_count": 106,
   "id": "da9b4fdc",
   "metadata": {
    "hidden": true,
    "scrolled": true
   },
   "outputs": [
    {
     "name": "stdout",
     "output_type": "stream",
     "text": [
      "------ MultipleLines --------------------\n",
      "               Count    %-Share\n",
      "MultipleLines                  \n",
      "No              3390  53.293507\n",
      "Yes             2971  46.706493\n",
      "\n"
     ]
    }
   ],
   "source": [
    "get_col_percent_share(phone_cleaned)"
   ]
  },
  {
   "cell_type": "markdown",
   "id": "639ebc86",
   "metadata": {
    "heading_collapsed": true,
    "hidden": true
   },
   "source": [
    "## Concatenating Data "
   ]
  },
  {
   "cell_type": "markdown",
   "id": "78ea9ded",
   "metadata": {
    "heading_collapsed": true,
    "hidden": true
   },
   "source": [
    "### `features_processed`"
   ]
  },
  {
   "cell_type": "code",
   "execution_count": 107,
   "id": "68e0c4d8",
   "metadata": {
    "hidden": true,
    "scrolled": true
   },
   "outputs": [
    {
     "name": "stdout",
     "output_type": "stream",
     "text": [
      "customerID             0\n",
      "BeginDate              0\n",
      "EndDate                0\n",
      "Type                   0\n",
      "PaperlessBilling       0\n",
      "PaymentMethod          0\n",
      "MonthlyCharges         0\n",
      "TotalCharges           0\n",
      "churn                  0\n",
      "tenure                 0\n",
      "gender                 0\n",
      "SeniorCitizen          0\n",
      "Partner                0\n",
      "Dependents             0\n",
      "InternetService     1526\n",
      "OnlineSecurity      1526\n",
      "OnlineBackup        1526\n",
      "DeviceProtection    1526\n",
      "TechSupport         1526\n",
      "StreamingTV         1526\n",
      "StreamingMovies     1526\n",
      "MultipleLines        682\n",
      "dtype: int64\n"
     ]
    }
   ],
   "source": [
    "features_processed = pd.concat([contract_cleaned, personal_cleaned.drop(['customerID'],axis=1),\n",
    "                         internet_cleaned.drop(['customerID'],axis=1), phone_cleaned.drop(['customerID'],axis=1)],\n",
    "                        axis=1)\n",
    "\n",
    "# checking to see the missing values from this concatination. \n",
    "print(features_processed.isna().sum())"
   ]
  },
  {
   "cell_type": "markdown",
   "id": "e6a4c11c",
   "metadata": {
    "hidden": true
   },
   "source": [
    "this shows that there are 1525 customers do not have internet services, and 682 do not have phone service services. <br>\n",
    "<br>\n",
    "`InternetService` - a 3rd value == 'none' will fill the values missing. \n",
    "- the other columns can be filled with \"No\" "
   ]
  },
  {
   "cell_type": "markdown",
   "id": "5799345f",
   "metadata": {
    "heading_collapsed": true,
    "hidden": true
   },
   "source": [
    "### observation after concat \n"
   ]
  },
  {
   "cell_type": "code",
   "execution_count": 108,
   "id": "2a8306de",
   "metadata": {
    "hidden": true,
    "scrolled": true
   },
   "outputs": [
    {
     "data": {
      "text/plain": [
       "customerID          0\n",
       "BeginDate           0\n",
       "EndDate             0\n",
       "Type                0\n",
       "PaperlessBilling    0\n",
       "PaymentMethod       0\n",
       "MonthlyCharges      0\n",
       "TotalCharges        0\n",
       "churn               0\n",
       "tenure              0\n",
       "gender              0\n",
       "SeniorCitizen       0\n",
       "Partner             0\n",
       "Dependents          0\n",
       "InternetService     0\n",
       "OnlineSecurity      0\n",
       "OnlineBackup        0\n",
       "DeviceProtection    0\n",
       "TechSupport         0\n",
       "StreamingTV         0\n",
       "StreamingMovies     0\n",
       "MultipleLines       0\n",
       "dtype: int64"
      ]
     },
     "execution_count": 108,
     "metadata": {},
     "output_type": "execute_result"
    }
   ],
   "source": [
    "features_processed['MultipleLines'].fillna('No Service', inplace=True)\n",
    "features_processed.fillna('No', inplace=True)\n",
    "\n",
    "features_processed.isna().sum()"
   ]
  },
  {
   "cell_type": "markdown",
   "id": "c843fd32",
   "metadata": {
    "hidden": true
   },
   "source": [
    "## Preprocessing Conclusions. "
   ]
  },
  {
   "cell_type": "markdown",
   "id": "9ccc5891",
   "metadata": {
    "hidden": true
   },
   "source": [
    "- **contract_clean**\n",
    "\n",
    "    - 11 rows with missing == ~0.15%.\n",
    "         - ll rows had empty values in the 'TotalCharges' column. 'tenure' == 0 fill with \"MonthlyCharge\"\n",
    "\n",
    "    - 2 Columns added:\n",
    "\n",
    "        - 'churn' == new target\n",
    "        - 'tenure' == months between 'BeginDate' and 'EndDate'\n",
    "\n",
    "\n",
    "- **personal_clean**\n",
    "    - no, issues in this dataset\n",
    "\n",
    "- **internet_clean**\n",
    "    - added \"No\" for customers without service in all columns.\n",
    "\n",
    "- **phone_clean**\n",
    "    - added 1 column\n",
    "    - add \"NoService\" added to \"MultipleLines\"\n",
    "\n",
    "**New Data Set with Changes**\n",
    "\n",
    "`features_preprocessed`- clean version of data. retaining the original values. "
   ]
  },
  {
   "cell_type": "markdown",
   "id": "fbcd882b",
   "metadata": {
    "heading_collapsed": true
   },
   "source": [
    "# Exploratory Data Analysis "
   ]
  },
  {
   "cell_type": "code",
   "execution_count": 109,
   "id": "23275e0d",
   "metadata": {
    "hidden": true
   },
   "outputs": [
    {
     "data": {
      "text/plain": [
       "<Figure size 432x288 with 0 Axes>"
      ]
     },
     "metadata": {},
     "output_type": "display_data"
    }
   ],
   "source": [
    "#check save path for charts.\n",
    "save_chart_path = '/Users/ericross/Desktop/Churn_interconnect/ALT/charting'\n",
    "graph_path = save_chart_path + 'Testing_chartpath.png'\n",
    "plt.savefig(graph_path)"
   ]
  },
  {
   "cell_type": "markdown",
   "id": "bb2d0488",
   "metadata": {
    "hidden": true
   },
   "source": [
    "## Pie Charts - Churn for Columns by classes"
   ]
  },
  {
   "cell_type": "markdown",
   "id": "4aba4e9d",
   "metadata": {
    "hidden": true
   },
   "source": [
    "### `pie_churn_all`"
   ]
  },
  {
   "cell_type": "code",
   "execution_count": 110,
   "id": "ade08e4d",
   "metadata": {
    "hidden": true,
    "scrolled": false
   },
   "outputs": [
    {
     "name": "stdout",
     "output_type": "stream",
     "text": [
      "The chart saved to /Users/ericross/Desktop/Churn_interconnect/ALT/chartingpie_Churn.png\n"
     ]
    },
    {
     "data": {
      "image/png": "[encoded data removed]",
      "text/plain": [
       "<Figure size 360x360 with 1 Axes>"
      ]
     },
     "metadata": {},
     "output_type": "display_data"
    }
   ],
   "source": [
    "customers_churn = churn_pie_whole(features_processed, 'customerID', 'Share of Churn in Dataset', 'pie_Churn.png')"
   ]
  },
  {
   "cell_type": "markdown",
   "id": "b86dc4d1",
   "metadata": {
    "hidden": true
   },
   "source": [
    "### Contract and Payment "
   ]
  },
  {
   "cell_type": "code",
   "execution_count": 111,
   "id": "0ccf39ff",
   "metadata": {
    "hidden": true,
    "scrolled": false
   },
   "outputs": [
    {
     "name": "stdout",
     "output_type": "stream",
     "text": [
      "The chart saved to /Users/ericross/Desktop/Churn_interconnect/ALT/chartingpie_Paymentmethod.png\n"
     ]
    },
    {
     "data": {
      "image/png": "[encoded data removed]",
      "text/plain": [
       "<Figure size 1080x396 with 4 Axes>"
      ]
     },
     "metadata": {},
     "output_type": "display_data"
    },
    {
     "data": {
      "text/html": [
       "<div>\n",
       "<style scoped>\n",
       "    .dataframe tbody tr th:only-of-type {\n",
       "        vertical-align: middle;\n",
       "    }\n",
       "\n",
       "    .dataframe tbody tr th {\n",
       "        vertical-align: top;\n",
       "    }\n",
       "\n",
       "    .dataframe thead th {\n",
       "        text-align: right;\n",
       "    }\n",
       "</style>\n",
       "<table border=\"1\" class=\"dataframe\">\n",
       "  <thead>\n",
       "    <tr style=\"text-align: right;\">\n",
       "      <th>churn</th>\n",
       "      <th>No</th>\n",
       "      <th>Yes</th>\n",
       "    </tr>\n",
       "    <tr>\n",
       "      <th>PaymentMethod</th>\n",
       "      <th></th>\n",
       "      <th></th>\n",
       "    </tr>\n",
       "  </thead>\n",
       "  <tbody>\n",
       "    <tr>\n",
       "      <th>Bank transfer (automatic)</th>\n",
       "      <td>1286</td>\n",
       "      <td>258</td>\n",
       "    </tr>\n",
       "    <tr>\n",
       "      <th>Credit card (automatic)</th>\n",
       "      <td>1290</td>\n",
       "      <td>232</td>\n",
       "    </tr>\n",
       "    <tr>\n",
       "      <th>Electronic check</th>\n",
       "      <td>1294</td>\n",
       "      <td>1071</td>\n",
       "    </tr>\n",
       "    <tr>\n",
       "      <th>Mailed check</th>\n",
       "      <td>1304</td>\n",
       "      <td>308</td>\n",
       "    </tr>\n",
       "  </tbody>\n",
       "</table>\n",
       "</div>"
      ],
      "text/plain": [
       "churn                        No   Yes\n",
       "PaymentMethod                        \n",
       "Bank transfer (automatic)  1286   258\n",
       "Credit card (automatic)    1290   232\n",
       "Electronic check           1294  1071\n",
       "Mailed check               1304   308"
      ]
     },
     "execution_count": 111,
     "metadata": {},
     "output_type": "execute_result"
    }
   ],
   "source": [
    "churn_pie_multiple_groups(features_processed, 'PaymentMethod', 'pie_Paymentmethod.png')"
   ]
  },
  {
   "cell_type": "markdown",
   "id": "01f54a70",
   "metadata": {
    "hidden": true
   },
   "source": [
    "Conclusion:\n",
    "\n",
    "    Based on the analysis of the charts and the observation that the most popular option has the highest churn, it does support the idea that implementing a strategy to incentivize customers with high churn risk or new customers to use an automatic payment method could be effective in reducing churn.\n",
    "\n",
    "    The fact that the most popular option has nearly double the churn rate compared to the overall dataset suggests that there may be certain characteristics or behaviors associated with that option that contribute to higher churn. By encouraging customers to use automatic payment methods, such as setting up recurring payments or providing discounts for automatic billing, you can potentially improve customer retention by reducing the likelihood of missed payments or payment delays.\n",
    "\n",
    "    It's important to note that while this observation suggests a potential strategy, it would be advisable to conduct further analysis and testing to validate the effectiveness of such a strategy. It may also be valuable to consider additional factors and customer insights to develop a comprehensive churn reduction strategy tailored to your specific business and customer needs."
   ]
  },
  {
   "cell_type": "markdown",
   "id": "6e49b412",
   "metadata": {
    "hidden": true
   },
   "source": [
    "#### `pie_churn_Type`"
   ]
  },
  {
   "cell_type": "code",
   "execution_count": 112,
   "id": "fc30eacd",
   "metadata": {
    "hidden": true,
    "scrolled": false
   },
   "outputs": [
    {
     "name": "stdout",
     "output_type": "stream",
     "text": [
      "The chart saved to /Users/ericross/Desktop/Churn_interconnect/ALT/chartingpie_Type.png\n"
     ]
    },
    {
     "data": {
      "image/png": "[encoded data removed]",
      "text/plain": [
       "<Figure size 1080x396 with 3 Axes>"
      ]
     },
     "metadata": {},
     "output_type": "display_data"
    },
    {
     "data": {
      "text/html": [
       "<div>\n",
       "<style scoped>\n",
       "    .dataframe tbody tr th:only-of-type {\n",
       "        vertical-align: middle;\n",
       "    }\n",
       "\n",
       "    .dataframe tbody tr th {\n",
       "        vertical-align: top;\n",
       "    }\n",
       "\n",
       "    .dataframe thead th {\n",
       "        text-align: right;\n",
       "    }\n",
       "</style>\n",
       "<table border=\"1\" class=\"dataframe\">\n",
       "  <thead>\n",
       "    <tr style=\"text-align: right;\">\n",
       "      <th>churn</th>\n",
       "      <th>No</th>\n",
       "      <th>Yes</th>\n",
       "    </tr>\n",
       "    <tr>\n",
       "      <th>Type</th>\n",
       "      <th></th>\n",
       "      <th></th>\n",
       "    </tr>\n",
       "  </thead>\n",
       "  <tbody>\n",
       "    <tr>\n",
       "      <th>Month-to-month</th>\n",
       "      <td>2220</td>\n",
       "      <td>1655</td>\n",
       "    </tr>\n",
       "    <tr>\n",
       "      <th>One year</th>\n",
       "      <td>1307</td>\n",
       "      <td>166</td>\n",
       "    </tr>\n",
       "    <tr>\n",
       "      <th>Two year</th>\n",
       "      <td>1647</td>\n",
       "      <td>48</td>\n",
       "    </tr>\n",
       "  </tbody>\n",
       "</table>\n",
       "</div>"
      ],
      "text/plain": [
       "churn             No   Yes\n",
       "Type                      \n",
       "Month-to-month  2220  1655\n",
       "One year        1307   166\n",
       "Two year        1647    48"
      ]
     },
     "execution_count": 112,
     "metadata": {},
     "output_type": "execute_result"
    }
   ],
   "source": [
    "churn_pie_multiple_groups(features_processed, 'Type', 'pie_Type.png')"
   ]
  },
  {
   "cell_type": "markdown",
   "id": "fe19e8cd",
   "metadata": {
    "hidden": true
   },
   "source": [
    "Conclusions:\n",
    "\n",
    "    Analyzing the churn rate based on the type of contact is an important observation. If the \"month-to-month\" contract type has a significantly higher churn rate compared to other contract types, it suggests that there may be specific factors or characteristics associated with this contract type that contribute to higher churn.\n",
    "\n",
    "    Considering \"month-to-month\" as its own observation or treating it differently in the analysis can potentially improve prediction quality and allow for more targeted strategies to improve customer retention. By understanding the unique aspects of month-to-month contracts and identifying the reasons behind higher churn, you can develop tailored strategies to address those specific pain points and improve customer satisfaction and loyalty.\n",
    "\n",
    "    For example, you could explore options to incentivize customers with month-to-month contracts to switch to longer-term contracts or offer additional benefits or discounts to encourage them to stay with your services. By addressing the specific challenges and concerns of customers on month-to-month contracts, you can enhance their overall experience and reduce churn.\n",
    "\n",
    "    It's important to note that while focusing on month-to-month contracts can be valuable, it should be complemented with a holistic approach that considers other factors and segments of customers. Understanding the interplay of various variables and customer behaviors can help in designing a comprehensive strategy to improve customer retention across different contract types and customer segments."
   ]
  },
  {
   "cell_type": "markdown",
   "id": "00c3e68a",
   "metadata": {
    "hidden": true
   },
   "source": [
    "### Demographics "
   ]
  },
  {
   "cell_type": "markdown",
   "id": "eb9362dd",
   "metadata": {
    "hidden": true
   },
   "source": [
    "#### `pie_churn_seinorcitizen`"
   ]
  },
  {
   "cell_type": "code",
   "execution_count": 113,
   "id": "deb61047",
   "metadata": {
    "hidden": true,
    "scrolled": false
   },
   "outputs": [
    {
     "name": "stdout",
     "output_type": "stream",
     "text": [
      "The file already exists.\n"
     ]
    },
    {
     "data": {
      "image/png": "[encoded data removed]",
      "text/plain": [
       "<Figure size 1080x396 with 2 Axes>"
      ]
     },
     "metadata": {},
     "output_type": "display_data"
    },
    {
     "data": {
      "text/html": [
       "<div>\n",
       "<style scoped>\n",
       "    .dataframe tbody tr th:only-of-type {\n",
       "        vertical-align: middle;\n",
       "    }\n",
       "\n",
       "    .dataframe tbody tr th {\n",
       "        vertical-align: top;\n",
       "    }\n",
       "\n",
       "    .dataframe thead th {\n",
       "        text-align: right;\n",
       "    }\n",
       "</style>\n",
       "<table border=\"1\" class=\"dataframe\">\n",
       "  <thead>\n",
       "    <tr style=\"text-align: right;\">\n",
       "      <th>churn</th>\n",
       "      <th>No</th>\n",
       "      <th>Yes</th>\n",
       "    </tr>\n",
       "    <tr>\n",
       "      <th>SeniorCitizen</th>\n",
       "      <th></th>\n",
       "      <th></th>\n",
       "    </tr>\n",
       "  </thead>\n",
       "  <tbody>\n",
       "    <tr>\n",
       "      <th>0</th>\n",
       "      <td>4508</td>\n",
       "      <td>1393</td>\n",
       "    </tr>\n",
       "    <tr>\n",
       "      <th>1</th>\n",
       "      <td>666</td>\n",
       "      <td>476</td>\n",
       "    </tr>\n",
       "  </tbody>\n",
       "</table>\n",
       "</div>"
      ],
      "text/plain": [
       "churn            No   Yes\n",
       "SeniorCitizen            \n",
       "0              4508  1393\n",
       "1               666   476"
      ]
     },
     "execution_count": 113,
     "metadata": {},
     "output_type": "execute_result"
    }
   ],
   "source": [
    "churn_pie_multiple_groups(features_processed, 'SeniorCitizen', 'pie_Seinorcitizen.png')"
   ]
  },
  {
   "cell_type": "markdown",
   "id": "c497521a",
   "metadata": {
    "hidden": true
   },
   "source": [
    "Conclsuion:\n",
    "\n",
    "    Analyzing the churn rate based on customer age groups is another insightful observation. The finding that senior citizens have a higher churn rate compared to non-seniors, despite constituting only 16% of the dataset, is significant.\n",
    "\n",
    "    This observation suggests that there might be specific factors or challenges that affect senior citizens' satisfaction or retention. It could be related to service preferences, communication channels, product suitability, or other factors that are more relevant for senior customers.\n",
    "\n",
    "    To address this issue and improve customer retention among senior citizens, it would be valuable to dive deeper into understanding their needs, preferences, and pain points. Conducting surveys, interviews, or focus groups with senior customers can provide valuable insights into their experiences, challenges, and expectations.\n",
    "\n",
    "    Based on the insights gained, you can tailor your products, services, and communication strategies to better meet the needs of senior citizens. This might include providing targeted support, clear and accessible communication channels, simplified billing or payment options, personalized recommendations, or specialized customer care for seniors.\n",
    "\n",
    "    By acknowledging the higher churn rate among senior citizens and actively addressing their specific concerns and preferences, you can work towards improving their overall experience and increasing customer loyalty among this segment."
   ]
  },
  {
   "cell_type": "markdown",
   "id": "bf4e0365",
   "metadata": {
    "hidden": true
   },
   "source": [
    "#### `pie_churn_gender`"
   ]
  },
  {
   "cell_type": "code",
   "execution_count": 114,
   "id": "7ae6a9c0",
   "metadata": {
    "hidden": true,
    "scrolled": true
   },
   "outputs": [
    {
     "name": "stdout",
     "output_type": "stream",
     "text": [
      "The file already exists.\n"
     ]
    },
    {
     "data": {
      "image/png": "[encoded data removed]",
      "text/plain": [
       "<Figure size 1080x396 with 2 Axes>"
      ]
     },
     "metadata": {},
     "output_type": "display_data"
    },
    {
     "data": {
      "text/html": [
       "<div>\n",
       "<style scoped>\n",
       "    .dataframe tbody tr th:only-of-type {\n",
       "        vertical-align: middle;\n",
       "    }\n",
       "\n",
       "    .dataframe tbody tr th {\n",
       "        vertical-align: top;\n",
       "    }\n",
       "\n",
       "    .dataframe thead th {\n",
       "        text-align: right;\n",
       "    }\n",
       "</style>\n",
       "<table border=\"1\" class=\"dataframe\">\n",
       "  <thead>\n",
       "    <tr style=\"text-align: right;\">\n",
       "      <th>churn</th>\n",
       "      <th>No</th>\n",
       "      <th>Yes</th>\n",
       "    </tr>\n",
       "    <tr>\n",
       "      <th>gender</th>\n",
       "      <th></th>\n",
       "      <th></th>\n",
       "    </tr>\n",
       "  </thead>\n",
       "  <tbody>\n",
       "    <tr>\n",
       "      <th>Female</th>\n",
       "      <td>2549</td>\n",
       "      <td>939</td>\n",
       "    </tr>\n",
       "    <tr>\n",
       "      <th>Male</th>\n",
       "      <td>2625</td>\n",
       "      <td>930</td>\n",
       "    </tr>\n",
       "  </tbody>\n",
       "</table>\n",
       "</div>"
      ],
      "text/plain": [
       "churn     No  Yes\n",
       "gender           \n",
       "Female  2549  939\n",
       "Male    2625  930"
      ]
     },
     "execution_count": 114,
     "metadata": {},
     "output_type": "execute_result"
    }
   ],
   "source": [
    "churn_pie_multiple_groups(features_processed, 'gender', 'pie_Gender.png')"
   ]
  },
  {
   "cell_type": "markdown",
   "id": "86e7f04c",
   "metadata": {
    "hidden": true
   },
   "source": [
    "Conclusion:\n",
    "\n",
    "    Gender is unlikely to be a significant determinant of churn. This conclusion is supported by multiple research papers that have explored the factors influencing churn. Gender is generally not found to have a strong correlation with customer churn in various industries. Therefore, when developing churn prediction models or retention strategies, it is advisable to focus on other factors that have been shown to have a more substantial impact on customer churn."
   ]
  },
  {
   "cell_type": "markdown",
   "id": "920ae16d",
   "metadata": {
    "hidden": true
   },
   "source": [
    "#### `pie_churn_Partner`"
   ]
  },
  {
   "cell_type": "code",
   "execution_count": 115,
   "id": "0a897ac1",
   "metadata": {
    "hidden": true,
    "scrolled": true
   },
   "outputs": [
    {
     "name": "stdout",
     "output_type": "stream",
     "text": [
      "The file already exists.\n"
     ]
    },
    {
     "data": {
      "image/png": "[encoded data removed]",
      "text/plain": [
       "<Figure size 1080x396 with 2 Axes>"
      ]
     },
     "metadata": {},
     "output_type": "display_data"
    },
    {
     "data": {
      "text/html": [
       "<div>\n",
       "<style scoped>\n",
       "    .dataframe tbody tr th:only-of-type {\n",
       "        vertical-align: middle;\n",
       "    }\n",
       "\n",
       "    .dataframe tbody tr th {\n",
       "        vertical-align: top;\n",
       "    }\n",
       "\n",
       "    .dataframe thead th {\n",
       "        text-align: right;\n",
       "    }\n",
       "</style>\n",
       "<table border=\"1\" class=\"dataframe\">\n",
       "  <thead>\n",
       "    <tr style=\"text-align: right;\">\n",
       "      <th>churn</th>\n",
       "      <th>No</th>\n",
       "      <th>Yes</th>\n",
       "    </tr>\n",
       "    <tr>\n",
       "      <th>Partner</th>\n",
       "      <th></th>\n",
       "      <th></th>\n",
       "    </tr>\n",
       "  </thead>\n",
       "  <tbody>\n",
       "    <tr>\n",
       "      <th>No</th>\n",
       "      <td>2441</td>\n",
       "      <td>1200</td>\n",
       "    </tr>\n",
       "    <tr>\n",
       "      <th>Yes</th>\n",
       "      <td>2733</td>\n",
       "      <td>669</td>\n",
       "    </tr>\n",
       "  </tbody>\n",
       "</table>\n",
       "</div>"
      ],
      "text/plain": [
       "churn      No   Yes\n",
       "Partner            \n",
       "No       2441  1200\n",
       "Yes      2733   669"
      ]
     },
     "execution_count": 115,
     "metadata": {},
     "output_type": "execute_result"
    }
   ],
   "source": [
    "churn_pie_multiple_groups(features_processed, 'Partner', 'pie_Partner.png')"
   ]
  },
  {
   "cell_type": "markdown",
   "id": "cd9a2e12",
   "metadata": {
    "hidden": true
   },
   "source": [
    "Conclusions:\n",
    "\n",
    "    Based on the analysis of the partner status, an interesting observation emerges regarding the churn rate based on customer relationship status. The data indicates that customers in a couple have a lower churn rate (19%) compared to single customers (33%), despite both groups having a roughly equal share of the data. However, it is worth noting that existing research in the field of churn prediction suggests that relationship status, such as being in a couple, may not be a strong determinant of churn. Therefore, while this particular finding from the data analysis is intriguing, it is important to approach it with caution and consider additional factors and research insights when formulating strategies to improve customer retention."
   ]
  },
  {
   "cell_type": "markdown",
   "id": "e51f2cb6",
   "metadata": {
    "hidden": true
   },
   "source": [
    "#### `pie_churn_Dependents`"
   ]
  },
  {
   "cell_type": "code",
   "execution_count": 116,
   "id": "3780a874",
   "metadata": {
    "hidden": true,
    "scrolled": true
   },
   "outputs": [
    {
     "name": "stdout",
     "output_type": "stream",
     "text": [
      "The file already exists.\n"
     ]
    },
    {
     "data": {
      "image/png": "[encoded data removed]",
      "text/plain": [
       "<Figure size 1080x396 with 2 Axes>"
      ]
     },
     "metadata": {},
     "output_type": "display_data"
    },
    {
     "data": {
      "text/html": [
       "<div>\n",
       "<style scoped>\n",
       "    .dataframe tbody tr th:only-of-type {\n",
       "        vertical-align: middle;\n",
       "    }\n",
       "\n",
       "    .dataframe tbody tr th {\n",
       "        vertical-align: top;\n",
       "    }\n",
       "\n",
       "    .dataframe thead th {\n",
       "        text-align: right;\n",
       "    }\n",
       "</style>\n",
       "<table border=\"1\" class=\"dataframe\">\n",
       "  <thead>\n",
       "    <tr style=\"text-align: right;\">\n",
       "      <th>churn</th>\n",
       "      <th>No</th>\n",
       "      <th>Yes</th>\n",
       "    </tr>\n",
       "    <tr>\n",
       "      <th>Dependents</th>\n",
       "      <th></th>\n",
       "      <th></th>\n",
       "    </tr>\n",
       "  </thead>\n",
       "  <tbody>\n",
       "    <tr>\n",
       "      <th>No</th>\n",
       "      <td>3390</td>\n",
       "      <td>1543</td>\n",
       "    </tr>\n",
       "    <tr>\n",
       "      <th>Yes</th>\n",
       "      <td>1784</td>\n",
       "      <td>326</td>\n",
       "    </tr>\n",
       "  </tbody>\n",
       "</table>\n",
       "</div>"
      ],
      "text/plain": [
       "churn         No   Yes\n",
       "Dependents            \n",
       "No          3390  1543\n",
       "Yes         1784   326"
      ]
     },
     "execution_count": 116,
     "metadata": {},
     "output_type": "execute_result"
    }
   ],
   "source": [
    "churn_pie_multiple_groups(features_processed, 'Dependents', 'pie_Dependents.png' )"
   ]
  },
  {
   "cell_type": "markdown",
   "id": "cc8e1530",
   "metadata": {
    "hidden": true
   },
   "source": [
    "Conclusion:\n",
    "\n",
    "    From the data, we can see that the analysis of customer churn revealed interesting insights related to various demographic factors. When examining the data, it was observed that the churn rate differs among different customer segments. For instance, couples were found to have a lower churn rate (19%) compared to individuals (33%), despite both groups having a relatively equal representation in the dataset. Similarly, customers without dependents were found to have a higher churn rate (33%) compared to those with dependents (16%), despite constituting a significant majority of the data. However, it is important to note that existing research in the field of churn prediction suggests that these demographic factors alone may not be the most reliable determinants of churn. Therefore, while these findings provide valuable insights, it is essential to consider other factors and research insights to develop more accurate churn prediction models and effective customer retention strategies."
   ]
  },
  {
   "cell_type": "markdown",
   "id": "bad5e366",
   "metadata": {
    "hidden": true
   },
   "source": [
    "### Services"
   ]
  },
  {
   "cell_type": "markdown",
   "id": "66c4ba1b",
   "metadata": {
    "hidden": true
   },
   "source": [
    "#### `pie_Services`"
   ]
  },
  {
   "cell_type": "code",
   "execution_count": 117,
   "id": "88a284c5",
   "metadata": {
    "hidden": true,
    "scrolled": false
   },
   "outputs": [
    {
     "name": "stdout",
     "output_type": "stream",
     "text": [
      "The file already exists.\n"
     ]
    },
    {
     "data": {
      "image/png": "[encoded data removed]",
      "text/plain": [
       "<Figure size 1080x396 with 3 Axes>"
      ]
     },
     "metadata": {},
     "output_type": "display_data"
    },
    {
     "data": {
      "text/html": [
       "<div>\n",
       "<style scoped>\n",
       "    .dataframe tbody tr th:only-of-type {\n",
       "        vertical-align: middle;\n",
       "    }\n",
       "\n",
       "    .dataframe tbody tr th {\n",
       "        vertical-align: top;\n",
       "    }\n",
       "\n",
       "    .dataframe thead th {\n",
       "        text-align: right;\n",
       "    }\n",
       "</style>\n",
       "<table border=\"1\" class=\"dataframe\">\n",
       "  <thead>\n",
       "    <tr style=\"text-align: right;\">\n",
       "      <th>churn</th>\n",
       "      <th>No</th>\n",
       "      <th>Yes</th>\n",
       "    </tr>\n",
       "    <tr>\n",
       "      <th>InternetService</th>\n",
       "      <th></th>\n",
       "      <th></th>\n",
       "    </tr>\n",
       "  </thead>\n",
       "  <tbody>\n",
       "    <tr>\n",
       "      <th>DSL</th>\n",
       "      <td>1774</td>\n",
       "      <td>647</td>\n",
       "    </tr>\n",
       "    <tr>\n",
       "      <th>Fiber optic</th>\n",
       "      <td>2291</td>\n",
       "      <td>805</td>\n",
       "    </tr>\n",
       "    <tr>\n",
       "      <th>No</th>\n",
       "      <td>1109</td>\n",
       "      <td>417</td>\n",
       "    </tr>\n",
       "  </tbody>\n",
       "</table>\n",
       "</div>"
      ],
      "text/plain": [
       "churn              No  Yes\n",
       "InternetService           \n",
       "DSL              1774  647\n",
       "Fiber optic      2291  805\n",
       "No               1109  417"
      ]
     },
     "execution_count": 117,
     "metadata": {},
     "output_type": "execute_result"
    }
   ],
   "source": [
    "churn_pie_multiple_groups(features_processed, 'InternetService', 'pie_Services.png')"
   ]
  },
  {
   "cell_type": "markdown",
   "id": "173ca17a",
   "metadata": {
    "hidden": true
   },
   "source": [
    "Conclusions:\n",
    "\n",
    "    From the analysis of the charts, it is evident that the distribution of internet services (or lack thereof) among customers follows a similar pattern to the overall data distribution. This suggests that the presence or absence of internet services may not significantly impact the churn rate on its own. It is important to delve deeper into other factors and variables to identify stronger predictors of churn and gain a comprehensive understanding of customer behavior. Incorporating additional variables such as contract type, payment method, and customer interaction patterns may provide more meaningful insights and enhance the accuracy of churn prediction models for effective decision-making in customer retention strategies."
   ]
  },
  {
   "cell_type": "code",
   "execution_count": 118,
   "id": "f44e4fd4",
   "metadata": {
    "hidden": true,
    "scrolled": true
   },
   "outputs": [
    {
     "name": "stdout",
     "output_type": "stream",
     "text": [
      "The chart saved to /Users/ericross/Desktop/Churn_interconnect/ALT/chartingpie_Multiplelines.png\n"
     ]
    },
    {
     "data": {
      "image/png": "[encoded data removed]",
      "text/plain": [
       "<Figure size 1080x396 with 3 Axes>"
      ]
     },
     "metadata": {},
     "output_type": "display_data"
    },
    {
     "data": {
      "text/html": [
       "<div>\n",
       "<style scoped>\n",
       "    .dataframe tbody tr th:only-of-type {\n",
       "        vertical-align: middle;\n",
       "    }\n",
       "\n",
       "    .dataframe tbody tr th {\n",
       "        vertical-align: top;\n",
       "    }\n",
       "\n",
       "    .dataframe thead th {\n",
       "        text-align: right;\n",
       "    }\n",
       "</style>\n",
       "<table border=\"1\" class=\"dataframe\">\n",
       "  <thead>\n",
       "    <tr style=\"text-align: right;\">\n",
       "      <th>churn</th>\n",
       "      <th>No</th>\n",
       "      <th>Yes</th>\n",
       "    </tr>\n",
       "    <tr>\n",
       "      <th>MultipleLines</th>\n",
       "      <th></th>\n",
       "      <th></th>\n",
       "    </tr>\n",
       "  </thead>\n",
       "  <tbody>\n",
       "    <tr>\n",
       "      <th>No</th>\n",
       "      <td>2480</td>\n",
       "      <td>910</td>\n",
       "    </tr>\n",
       "    <tr>\n",
       "      <th>No Service</th>\n",
       "      <td>494</td>\n",
       "      <td>188</td>\n",
       "    </tr>\n",
       "    <tr>\n",
       "      <th>Yes</th>\n",
       "      <td>2200</td>\n",
       "      <td>771</td>\n",
       "    </tr>\n",
       "  </tbody>\n",
       "</table>\n",
       "</div>"
      ],
      "text/plain": [
       "churn            No  Yes\n",
       "MultipleLines           \n",
       "No             2480  910\n",
       "No Service      494  188\n",
       "Yes            2200  771"
      ]
     },
     "execution_count": 118,
     "metadata": {},
     "output_type": "execute_result"
    }
   ],
   "source": [
    "churn_pie_multiple_groups(features_processed, 'MultipleLines', \"pie_Multiplelines.png\")"
   ]
  },
  {
   "cell_type": "code",
   "execution_count": 119,
   "id": "a06ddc1b",
   "metadata": {
    "hidden": true
   },
   "outputs": [
    {
     "name": "stdout",
     "output_type": "stream",
     "text": [
      "The chart saved to /Users/ericross/Desktop/Churn_interconnect/ALT/chartingpie_TotalCharges.png\n"
     ]
    },
    {
     "data": {
      "image/png": "[encoded data removed]",
      "text/plain": [
       "<Figure size 576x576 with 1 Axes>"
      ]
     },
     "metadata": {},
     "output_type": "display_data"
    }
   ],
   "source": [
    "total_charges_table = pd.pivot_table(data=features_processed,\n",
    "                                     values=['TotalCharges'],\n",
    "                                     index=['customerID'],\n",
    "                                     columns=['churn'],\n",
    "                                     aggfunc='mean')\n",
    "\n",
    "overall_total_charges = total_charges_table.sum()\n",
    "\n",
    "# Create a pie chart\n",
    "labels = ['Current Customers', 'Churned Customers']\n",
    "colors = [my_green, my_red]\n",
    "explode = (0.1, 0)  # To explode the first slice (Churned Customers)\n",
    "plt.figure(figsize=(8, 8), facecolor=dark_background)\n",
    "plt.pie(overall_total_charges,\n",
    "        labels=labels,\n",
    "        colors=colors,\n",
    "        explode=explode,\n",
    "        shadow=0.5, \n",
    "        autopct='%1.1f%%',\n",
    "        startangle=140,\n",
    "        textprops={'fontsize': 14})\n",
    "\n",
    "plt.title('Overall Total Charges by Customer Churn', fontsize=16)\n",
    "plt.axis('equal')  # Equal aspect ratio ensures that pie is drawn as a circle.\n",
    "\n",
    "\n",
    "\n",
    "\n",
    "# Combine the directory path and file name to create the complete file path\n",
    "graph_path_pie = save_chart_path + \"pie_TotalCharges.png\"\n",
    "# Check if the file already exists\n",
    "if os.path.isfile(graph_path_pie):\n",
    "    print(\"The file already exists.\")\n",
    "else:\n",
    "    # Save the chart to the specified file path\n",
    "    plt.savefig(graph_path)\n",
    "    print(f\"The chart saved to {graph_path_pie}\")\n",
    "\n",
    "plt.show()\n"
   ]
  },
  {
   "cell_type": "markdown",
   "id": "75fb8d4a",
   "metadata": {
    "hidden": true
   },
   "source": [
    "## Histograms - Continuous Features"
   ]
  },
  {
   "cell_type": "markdown",
   "id": "d3dd2106",
   "metadata": {
    "hidden": true
   },
   "source": [
    "### TotalCharges_distribution."
   ]
  },
  {
   "cell_type": "code",
   "execution_count": 120,
   "id": "846af802",
   "metadata": {
    "hidden": true,
    "scrolled": true
   },
   "outputs": [
    {
     "name": "stdout",
     "output_type": "stream",
     "text": [
      "The chart saved to /Users/ericross/Desktop/Churn_interconnect/ALT/chartinghist_TotalCharges.png\n"
     ]
    },
    {
     "data": {
      "image/png": "[encoded data removed]",
      "text/plain": [
       "<Figure size 864x360 with 2 Axes>"
      ]
     },
     "metadata": {},
     "output_type": "display_data"
    }
   ],
   "source": [
    "hist_plot(features_processed, 'TotalCharges', 'hist_TotalCharges.png')"
   ]
  },
  {
   "cell_type": "markdown",
   "id": "7f8dd049",
   "metadata": {
    "hidden": true
   },
   "source": [
    "**TotalCharges - conclusion**\n",
    "\n",
    "As is to be expected, we can see that customers who churn account for only 17.7% of the total charges, highlighting the value of maintaining customer loyalty over customer acquisition. Although this conclusion is in support of the well-understood and widely agreed-upon nature of customer churn, it is also promising, as the impact on revenue is currently less than that of the current share of churned customers. This may also suggest that if customers are retained, they will be far more likely to increase in value than to leave the company. However, this will likely not serve as a good attribute for churn prediction.\"\n"
   ]
  },
  {
   "cell_type": "code",
   "execution_count": 121,
   "id": "f7aadd79",
   "metadata": {
    "hidden": true
   },
   "outputs": [
    {
     "name": "stdout",
     "output_type": "stream",
     "text": [
      "The chart saved to /Users/ericross/Desktop/Churn_interconnect/ALT/chartinghist_MonthlyCharges.png\n"
     ]
    },
    {
     "data": {
      "image/png": "[encoded data removed]",
      "text/plain": [
       "<Figure size 864x360 with 2 Axes>"
      ]
     },
     "metadata": {},
     "output_type": "display_data"
    }
   ],
   "source": [
    "hist_plot(features_processed, 'MonthlyCharges', 'hist_MonthlyCharges.png')"
   ]
  },
  {
   "cell_type": "markdown",
   "id": "59d12a66",
   "metadata": {
    "hidden": true
   },
   "source": [
    "##### MonthlyCharges - conclusion\n",
    "\n",
    "Examining the relationship between monthly charges and churn, there is a strong and inversely correlated pattern observed. The majority of customers who churn have monthly charges exceeding $60. This suggests that customers with higher monthly costs are more likely to churn. It is crucial for the telecom company to understand the underlying reasons behind this trend and evaluate the value proposition they offer to customers at different price points. By identifying strategies to address customer concerns related to pricing and delivering enhanced value for higher-cost plans, the company can potentially mitigate churn and retain valuable customers. Additionally, exploring options to provide cost-effective plans or personalized offers for customers with lower monthly charges may also contribute to improving customer retention rates.\n",
    "\n"
   ]
  },
  {
   "cell_type": "markdown",
   "id": "ee9a0c89",
   "metadata": {
    "hidden": true
   },
   "source": [
    "### tenure_distribution"
   ]
  },
  {
   "cell_type": "code",
   "execution_count": 122,
   "id": "de7b973d",
   "metadata": {
    "hidden": true
   },
   "outputs": [
    {
     "name": "stdout",
     "output_type": "stream",
     "text": [
      "The chart saved to /Users/ericross/Desktop/Churn_interconnect/ALT/chartinghist_Tenure.png\n"
     ]
    },
    {
     "data": {
      "image/png": "[encoded data removed]",
      "text/plain": [
       "<Figure size 864x360 with 2 Axes>"
      ]
     },
     "metadata": {},
     "output_type": "display_data"
    }
   ],
   "source": [
    "hist_plot(features_processed, 'tenure', 'hist_Tenure.png')"
   ]
  },
  {
   "cell_type": "markdown",
   "id": "1cb96577",
   "metadata": {
    "hidden": true
   },
   "source": [
    "##### Tenure - Conclusion\n",
    "Analyzing the distribution of churn based on tenure in months, it is evident that a significant proportion of customers, approximately 40%, tend to churn within the first 6 months of joining. This finding emphasizes the importance of focusing efforts on reducing churn among new customers. Implementing targeted strategies and initiatives during the early stages of the customer journey can potentially enhance customer satisfaction, address pain points, and increase their likelihood of remaining loyal to the company. By prioritizing customer retention efforts for new customers, the telecom company can improve overall churn rates and establish long-lasting customer relationships."
   ]
  },
  {
   "cell_type": "markdown",
   "id": "c0fd3db1",
   "metadata": {
    "heading_collapsed": true
   },
   "source": [
    "# Feature Engineering"
   ]
  },
  {
   "cell_type": "markdown",
   "id": "f5773480",
   "metadata": {
    "heading_collapsed": true,
    "hidden": true
   },
   "source": [
    "## Manual encoding for Target values"
   ]
  },
  {
   "cell_type": "code",
   "execution_count": 123,
   "id": "de2793d8",
   "metadata": {
    "hidden": true,
    "scrolled": false
   },
   "outputs": [
    {
     "data": {
      "text/plain": [
       "0       0\n",
       "1       0\n",
       "2       1\n",
       "3       0\n",
       "4       1\n",
       "       ..\n",
       "7038    0\n",
       "7039    0\n",
       "7040    0\n",
       "7041    1\n",
       "7042    0\n",
       "Name: churn, Length: 7043, dtype: int64"
      ]
     },
     "execution_count": 123,
     "metadata": {},
     "output_type": "execute_result"
    }
   ],
   "source": [
    "features_processed = features_processed.drop(['customerID', 'BeginDate', 'EndDate'], axis=1)\n",
    "\n",
    "features_processed['churn'] = features_processed['churn'].replace({'Yes': 1, 'No': 0})\n",
    "\n",
    "features_processed.churn"
   ]
  },
  {
   "cell_type": "markdown",
   "id": "50b43f73",
   "metadata": {
    "heading_collapsed": true,
    "hidden": true
   },
   "source": [
    "## Encoding Features with  pandas.GetDummies( )"
   ]
  },
  {
   "cell_type": "code",
   "execution_count": 124,
   "id": "b49e8123",
   "metadata": {
    "hidden": true,
    "scrolled": true
   },
   "outputs": [
    {
     "data": {
      "text/html": [
       "<div>\n",
       "<style scoped>\n",
       "    .dataframe tbody tr th:only-of-type {\n",
       "        vertical-align: middle;\n",
       "    }\n",
       "\n",
       "    .dataframe tbody tr th {\n",
       "        vertical-align: top;\n",
       "    }\n",
       "\n",
       "    .dataframe thead th {\n",
       "        text-align: right;\n",
       "    }\n",
       "</style>\n",
       "<table border=\"1\" class=\"dataframe\">\n",
       "  <thead>\n",
       "    <tr style=\"text-align: right;\">\n",
       "      <th></th>\n",
       "      <th>MonthlyCharges</th>\n",
       "      <th>TotalCharges</th>\n",
       "      <th>churn</th>\n",
       "      <th>tenure</th>\n",
       "      <th>SeniorCitizen</th>\n",
       "      <th>Type_One year</th>\n",
       "      <th>Type_Two year</th>\n",
       "      <th>PaperlessBilling_Yes</th>\n",
       "      <th>PaymentMethod_Credit card (automatic)</th>\n",
       "      <th>PaymentMethod_Electronic check</th>\n",
       "      <th>...</th>\n",
       "      <th>InternetService_Fiber optic</th>\n",
       "      <th>InternetService_No</th>\n",
       "      <th>OnlineSecurity_Yes</th>\n",
       "      <th>OnlineBackup_Yes</th>\n",
       "      <th>DeviceProtection_Yes</th>\n",
       "      <th>TechSupport_Yes</th>\n",
       "      <th>StreamingTV_Yes</th>\n",
       "      <th>StreamingMovies_Yes</th>\n",
       "      <th>MultipleLines_No Service</th>\n",
       "      <th>MultipleLines_Yes</th>\n",
       "    </tr>\n",
       "  </thead>\n",
       "  <tbody>\n",
       "    <tr>\n",
       "      <th>0</th>\n",
       "      <td>29.85</td>\n",
       "      <td>29.850000</td>\n",
       "      <td>0</td>\n",
       "      <td>1</td>\n",
       "      <td>0</td>\n",
       "      <td>False</td>\n",
       "      <td>False</td>\n",
       "      <td>True</td>\n",
       "      <td>False</td>\n",
       "      <td>True</td>\n",
       "      <td>...</td>\n",
       "      <td>False</td>\n",
       "      <td>False</td>\n",
       "      <td>False</td>\n",
       "      <td>True</td>\n",
       "      <td>False</td>\n",
       "      <td>False</td>\n",
       "      <td>False</td>\n",
       "      <td>False</td>\n",
       "      <td>False</td>\n",
       "      <td>False</td>\n",
       "    </tr>\n",
       "    <tr>\n",
       "      <th>1</th>\n",
       "      <td>56.95</td>\n",
       "      <td>1889.500000</td>\n",
       "      <td>0</td>\n",
       "      <td>33</td>\n",
       "      <td>0</td>\n",
       "      <td>True</td>\n",
       "      <td>False</td>\n",
       "      <td>False</td>\n",
       "      <td>False</td>\n",
       "      <td>False</td>\n",
       "      <td>...</td>\n",
       "      <td>False</td>\n",
       "      <td>False</td>\n",
       "      <td>True</td>\n",
       "      <td>False</td>\n",
       "      <td>True</td>\n",
       "      <td>False</td>\n",
       "      <td>False</td>\n",
       "      <td>False</td>\n",
       "      <td>False</td>\n",
       "      <td>False</td>\n",
       "    </tr>\n",
       "    <tr>\n",
       "      <th>2</th>\n",
       "      <td>53.85</td>\n",
       "      <td>108.150002</td>\n",
       "      <td>1</td>\n",
       "      <td>1</td>\n",
       "      <td>0</td>\n",
       "      <td>False</td>\n",
       "      <td>False</td>\n",
       "      <td>True</td>\n",
       "      <td>False</td>\n",
       "      <td>False</td>\n",
       "      <td>...</td>\n",
       "      <td>False</td>\n",
       "      <td>False</td>\n",
       "      <td>True</td>\n",
       "      <td>True</td>\n",
       "      <td>False</td>\n",
       "      <td>False</td>\n",
       "      <td>False</td>\n",
       "      <td>False</td>\n",
       "      <td>False</td>\n",
       "      <td>False</td>\n",
       "    </tr>\n",
       "    <tr>\n",
       "      <th>3</th>\n",
       "      <td>42.30</td>\n",
       "      <td>1840.750000</td>\n",
       "      <td>0</td>\n",
       "      <td>44</td>\n",
       "      <td>0</td>\n",
       "      <td>True</td>\n",
       "      <td>False</td>\n",
       "      <td>False</td>\n",
       "      <td>False</td>\n",
       "      <td>False</td>\n",
       "      <td>...</td>\n",
       "      <td>False</td>\n",
       "      <td>False</td>\n",
       "      <td>True</td>\n",
       "      <td>False</td>\n",
       "      <td>True</td>\n",
       "      <td>True</td>\n",
       "      <td>False</td>\n",
       "      <td>False</td>\n",
       "      <td>False</td>\n",
       "      <td>True</td>\n",
       "    </tr>\n",
       "    <tr>\n",
       "      <th>4</th>\n",
       "      <td>70.70</td>\n",
       "      <td>151.649994</td>\n",
       "      <td>1</td>\n",
       "      <td>1</td>\n",
       "      <td>0</td>\n",
       "      <td>False</td>\n",
       "      <td>False</td>\n",
       "      <td>True</td>\n",
       "      <td>False</td>\n",
       "      <td>True</td>\n",
       "      <td>...</td>\n",
       "      <td>True</td>\n",
       "      <td>False</td>\n",
       "      <td>False</td>\n",
       "      <td>False</td>\n",
       "      <td>False</td>\n",
       "      <td>False</td>\n",
       "      <td>False</td>\n",
       "      <td>False</td>\n",
       "      <td>False</td>\n",
       "      <td>True</td>\n",
       "    </tr>\n",
       "  </tbody>\n",
       "</table>\n",
       "<p>5 rows × 24 columns</p>\n",
       "</div>"
      ],
      "text/plain": [
       "   MonthlyCharges  TotalCharges  churn  tenure  SeniorCitizen  Type_One year  \\\n",
       "0           29.85     29.850000      0       1              0          False   \n",
       "1           56.95   1889.500000      0      33              0           True   \n",
       "2           53.85    108.150002      1       1              0          False   \n",
       "3           42.30   1840.750000      0      44              0           True   \n",
       "4           70.70    151.649994      1       1              0          False   \n",
       "\n",
       "   Type_Two year  PaperlessBilling_Yes  PaymentMethod_Credit card (automatic)  \\\n",
       "0          False                  True                                  False   \n",
       "1          False                 False                                  False   \n",
       "2          False                  True                                  False   \n",
       "3          False                 False                                  False   \n",
       "4          False                  True                                  False   \n",
       "\n",
       "   PaymentMethod_Electronic check  ...  InternetService_Fiber optic  \\\n",
       "0                            True  ...                        False   \n",
       "1                           False  ...                        False   \n",
       "2                           False  ...                        False   \n",
       "3                           False  ...                        False   \n",
       "4                            True  ...                         True   \n",
       "\n",
       "   InternetService_No  OnlineSecurity_Yes  OnlineBackup_Yes  \\\n",
       "0               False               False              True   \n",
       "1               False                True             False   \n",
       "2               False                True              True   \n",
       "3               False                True             False   \n",
       "4               False               False             False   \n",
       "\n",
       "   DeviceProtection_Yes  TechSupport_Yes  StreamingTV_Yes  \\\n",
       "0                 False            False            False   \n",
       "1                  True            False            False   \n",
       "2                 False            False            False   \n",
       "3                  True             True            False   \n",
       "4                 False            False            False   \n",
       "\n",
       "   StreamingMovies_Yes  MultipleLines_No Service  MultipleLines_Yes  \n",
       "0                False                     False              False  \n",
       "1                False                     False              False  \n",
       "2                False                     False              False  \n",
       "3                False                     False               True  \n",
       "4                False                     False               True  \n",
       "\n",
       "[5 rows x 24 columns]"
      ]
     },
     "execution_count": 124,
     "metadata": {},
     "output_type": "execute_result"
    }
   ],
   "source": [
    "features_dummy = pd.get_dummies(features_processed, drop_first=True)\n",
    "features_dummy.head()"
   ]
  },
  {
   "cell_type": "markdown",
   "id": "0e90eea8",
   "metadata": {
    "hidden": true
   },
   "source": [
    "## Scaling - Standard Scaler"
   ]
  },
  {
   "cell_type": "code",
   "execution_count": 125,
   "id": "7dc039cc",
   "metadata": {
    "hidden": true
   },
   "outputs": [],
   "source": [
    "X = features_dummy.drop('churn', axis=1)\n",
    "\n",
    "y = features_dummy['churn']\n",
    "\n",
    "X_train,X_test,y_train,y_test = train_test_split(X,y,\n",
    "                                                     test_size=0.4,\n",
    "                                                     random_state=336699)\n",
    "\n",
    "\n",
    "\n",
    "scaler = StandardScaler()\n",
    "\n",
    "scaler.fit(X_train)\n",
    "\n",
    "X_train_scaled = scaler.transform(X_train)\n",
    "X_test_scaled = scaler.transform(X_test)\n",
    "\n",
    "y_train_scaled = y_train\n",
    "y_test_scaled = y_test"
   ]
  },
  {
   "cell_type": "markdown",
   "id": "16c9505b",
   "metadata": {
    "hidden": true
   },
   "source": [
    "data for training and testing models has been encoded with  get_dummies(drop_first=True) and then scaled StandardScaler\n",
    "\n",
    "- train_size = 0.6\n",
    "- test_size = 0.4\n",
    "- X_train_scaled , y_train_scaled, X_test_scaled, y_test_scaled"
   ]
  },
  {
   "cell_type": "markdown",
   "id": "c95a130f",
   "metadata": {},
   "source": [
    "# Modeling"
   ]
  },
  {
   "cell_type": "markdown",
   "id": "e401249c",
   "metadata": {},
   "source": [
    "## spot check possible models"
   ]
  },
  {
   "cell_type": "code",
   "execution_count": 126,
   "id": "0126890d",
   "metadata": {
    "scrolled": true
   },
   "outputs": [
    {
     "name": "stdout",
     "output_type": "stream",
     "text": [
      "LR: 0.840871 (0.020249)\n",
      "LDA: 0.829354 (0.021442)\n",
      "KNN: nan (nan)\n",
      "DTC: 0.669710 (0.025833)\n",
      "RF: 0.836483 (0.016609)\n",
      "NB: 0.814949 (0.022339)\n",
      "SVM: 0.808804 (0.026162)\n",
      "GB: 0.856063 (0.015833)\n"
     ]
    }
   ],
   "source": [
    "from sklearn.linear_model import LogisticRegression\n",
    "from sklearn.discriminant_analysis import LinearDiscriminantAnalysis\n",
    "from sklearn.neighbors import KNeighborsClassifier\n",
    "from sklearn.tree import DecisionTreeClassifier\n",
    "from sklearn.naive_bayes import GaussianNB\n",
    "from sklearn.svm import SVC\n",
    "from sklearn.ensemble import GradientBoostingClassifier, RandomForestClassifier\n",
    "\n",
    "\n",
    "\n",
    "models = []\n",
    "models.append(('LR', LogisticRegression(solver='liblinear', multi_class='ovr')))\n",
    "models.append(('LDA', LinearDiscriminantAnalysis()))\n",
    "models.append(('KNN', KNeighborsClassifier()))\n",
    "models.append(('DTC', DecisionTreeClassifier()))\n",
    "models.append(('RF', RandomForestClassifier()))\n",
    "models.append(('NB', GaussianNB()))\n",
    "models.append(('SVM', SVC(gamma='auto')))\n",
    "models.append(('GB', GradientBoostingClassifier()))\n",
    "\n",
    "\n",
    "# evaluate each model in turn\n",
    "results = []\n",
    "names = []\n",
    "for name, model in models:\n",
    "    # Test options and evaluation metric\n",
    "    kfold = StratifiedKFold(n_splits=10)\n",
    "    cv_results = cross_val_score(model, X_train_scaled, y_train_scaled, cv=kfold, scoring='roc_auc')\n",
    "    results.append(cv_results)\n",
    "    names.append(name)\n",
    "    print('%s: %f (%f)' % (name, cv_results.mean(), cv_results.std()))"
   ]
  },
  {
   "cell_type": "markdown",
   "id": "ca98f975",
   "metadata": {},
   "source": [
    "### Plot Scores on Box Plot"
   ]
  },
  {
   "cell_type": "code",
   "execution_count": 166,
   "id": "5a379a98",
   "metadata": {
    "scrolled": true
   },
   "outputs": [
    {
     "name": "stdout",
     "output_type": "stream",
     "text": [
      "The chart saved to /Users/ericross/Desktop/Interconnect_churn_prediction/Charts/boxplot_ModelingCheck.png\n"
     ]
    },
    {
     "data": {
      "image/png": "[encoded data removed]",
      "text/plain": [
       "<Figure size 432x288 with 1 Axes>"
      ]
     },
     "metadata": {},
     "output_type": "display_data"
    }
   ],
   "source": [
    "box_colors = ['red', 'green', 'lightblue', 'pink', 'purple', 'blue', 'yellow', 'orange']\n",
    "\n",
    "# Create a boxplot with custom colors and font size\n",
    "plt.figure(figsize=(6, 4), facecolor=dark_background)\n",
    "\n",
    "# Create a list to store the box artists\n",
    "box_artists = []\n",
    "\n",
    "for i, d in enumerate(results):\n",
    "    box = plt.boxplot([d], positions=[i + 1], patch_artist=True, widths=0.6)\n",
    "    box_artists.append(box)\n",
    "\n",
    "# Set the facecolor of each box\n",
    "for box, color in zip(box_artists, box_colors):\n",
    "    for patch in box['boxes']:\n",
    "        patch.set_facecolor(color)\n",
    "\n",
    "# Set the font size for the title and labels\n",
    "plt.title('Algorithm Comparison', fontsize=16)\n",
    "plt.xlabel('Algorithms', fontsize=14)\n",
    "plt.ylabel('AUC-ROC Scores', fontsize=14)\n",
    "plt.xticks(range(1, len(names) + 1), names, fontsize=12)\n",
    "\n",
    "graph_path = save_chart_path + 'boxplot_ModelingCheck.png'\n",
    "if os.path.isfile(graph_path):\n",
    "    print(\"The file already exists.\")\n",
    "else:\n",
    "    plt.savefig(graph_path)\n",
    "    print(f\"The chart saved to {graph_path}\")\n",
    "\n",
    "plt.show()"
   ]
  },
  {
   "cell_type": "markdown",
   "id": "ee1b03f4",
   "metadata": {},
   "source": [
    "Conclsuion:\n",
    "I used the target metric auc-roc which handles the class imbalance better than other metrics. The goal here is to establish a base-line comparison to provide insight into which model will do well in this context.  \n",
    "\n",
    "Based on the results, the models I will use are LinearRegressior ,RandomForestClassifier, and GradientBoostingClassifier.\n",
    "\n",
    " - other boosting models such as; lightGBM, XGBoost, or CATBoost may preform better, However these terminate the Kernal, due to my machine's having low memory. "
   ]
  },
  {
   "cell_type": "markdown",
   "id": "a6155d7e",
   "metadata": {},
   "source": [
    "## Modeling Functions"
   ]
  },
  {
   "cell_type": "markdown",
   "id": "dcb1ab4c",
   "metadata": {
    "heading_collapsed": true
   },
   "source": [
    "### plot: Confusion Matrix, plotting and outputting metrics"
   ]
  },
  {
   "cell_type": "code",
   "execution_count": 146,
   "id": "6bad3d7d",
   "metadata": {
    "hidden": true
   },
   "outputs": [],
   "source": [
    "def plot_confusion_matrix(y_true, y_preds):\n",
    "    \n",
    "    cnf_matrix = confusion_matrix(y_true, y_preds)\n",
    "    plt.imshow(cnf_matrix,  cmap=plt.cm.Blues)\n",
    "    plt.title('Confusion Matrix')\n",
    "    plt.ylabel('True label')\n",
    "    plt.xlabel('Predicted label')\n",
    "    \n",
    "    class_names = set(y) \n",
    "    tick_marks = np.arange(len(class_names))\n",
    "    plt.xticks(tick_marks, class_names, rotation=0)\n",
    "    plt.yticks(tick_marks, class_names)\n",
    "    \n",
    "    thresh = cnf_matrix.max() / 2. \n",
    "    \n",
    "    for i, j in itertools.product(range(cnf_matrix.shape[0]), range(cnf_matrix.shape[1])):\n",
    "            plt.text(j, i, cnf_matrix[i, j],\n",
    "                     horizontalalignment='center',\n",
    "                     color='white' if cnf_matrix[i, j] > thresh else 'black')\n",
    "    # Add a legend\n",
    "    plt.colorbar();\n",
    "    plt.show();\n",
    "\n",
    "def plot_roc_curve(y_true, y_scores, label= 'Test_set'):\n",
    "    fpr, tpr, _ = roc_curve(y_true, y_scores)\n",
    "    roc_auc = auc(fpr, tpr)\n",
    "    plt.plot(fpr, tpr, label=f'{label} (AUC = {roc_auc:.2f})', linewidth=4)\n",
    "    plt.plot([0, 1], [0, 1], color='red', linestyle='--', linewidth=2)    \n",
    "    plt.xlabel('False Positive Rate')\n",
    "    plt.ylabel('True Positive Rate')\n",
    "    plt.title('Test:ROC Curve')\n",
    "    plt.legend(loc='lower right')\n",
    "\n",
    "    \n",
    "def plot_f1_score(y_true, y_pred, label= 'Test_set'):\n",
    "    precision, recall, _ = precision_recall_curve(y_true, y_pred)\n",
    "    f1 = 2 * (precision * recall) / (precision + recall)\n",
    "    plt.plot(recall, precision, label=f'{label} (F1 = {max(f1):.2f})',linewidth=4)\n",
    "    plt.plot([0, 1], [0, 1], color='red', linestyle='--', linewidth=2)\n",
    "    plt.xlabel('Recall')\n",
    "    plt.ylabel('Precision')\n",
    "    plt.title('Test:F1 Curve')\n",
    "    plt.legend(loc='lower left')\n",
    "    \n",
    "def plot_aps(y_true, y_scores, label= 'Test_set'):\n",
    "    precision, recall, _ = precision_recall_curve(y_true, y_scores)\n",
    "    aps = average_precision_score(y_true, y_scores)\n",
    "    plt.plot(recall, precision, label=f'{label} (APS = {aps:.2f})', linewidth=4)\n",
    "    plt.plot([0, 1], [0, 1], color='red', linestyle='--', linewidth=2)    \n",
    "    plt.xlabel('Recall')\n",
    "    plt.ylabel('Precision')\n",
    "    plt.title('Test: APS Curve')\n",
    "    plt.legend(loc='lower left')\n",
    "    \n",
    "\n",
    "def metrics(model_name, y_train, y_test, y_hat_train, y_hat_test):\n",
    "    \n",
    "    '''Print out the evaluation metrics for a given models predictions\n",
    "    \n",
    "        Metrics (Training & Testing):\n",
    "             - Accuracy\n",
    "             - ROC-AUC\n",
    "             - Classification Report  \n",
    "    '''\n",
    "    \n",
    "    print(f'Model: {model_name}', )\n",
    "    print('-'*60)\n",
    "    print(f'test accuracy: {accuracy_score(y_test, y_hat_test)}')\n",
    "    print(f'train accuracy: {accuracy_score(y_train, y_hat_train)}')\n",
    "    print('-'*60)\n",
    "    print(f'test AUC-ROC:{roc_auc_score(y_test, y_hat_test)}')\n",
    "    print(f'train AUC-ROC:{roc_auc_score(y_train, y_hat_train)}')\n",
    "    print('-'*60)\n",
    "    print('Confusion Matrix:\\n', pd.crosstab(y_test, y_hat_test, rownames=['Actual'], colnames=['Predicted'],margins = True))\n",
    "    print('\\ntest report:\\n' + classification_report(y_test, y_hat_test))\n",
    "    print('~'*60)\n",
    "    print('\\ntrain report:\\n' + classification_report(y_train, y_hat_train))\n",
    "    print('-'*60)"
   ]
  },
  {
   "cell_type": "markdown",
   "id": "af62a60f",
   "metadata": {
    "heading_collapsed": true
   },
   "source": [
    "### Logistic_Regression w/ grid"
   ]
  },
  {
   "cell_type": "code",
   "execution_count": 137,
   "id": "02e16058",
   "metadata": {
    "hidden": true
   },
   "outputs": [],
   "source": [
    "def logistic_regression_cv(X_train, y_train, random_state=None):\n",
    "    # Define the parameter grid\n",
    "    param_grid = {\n",
    "        'C': [0.001, 0.01, 0.1, 1, 3],\n",
    "        'penalty': ['l1', 'l2'],\n",
    "        'solver': ['liblinear', 'saga']\n",
    "    }\n",
    "\n",
    "    # Create an instance of Logistic Regression\n",
    "    logreg = LogisticRegression(max_iter=1000, random_state=random_state)## max_iter was raised from 100 to 1000. \n",
    "\n",
    "    # Create an instance of StratifiedKFold\n",
    "    skf = StratifiedKFold(n_splits=10, shuffle=True, random_state=random_state)\n",
    "\n",
    "    # Create an instance of GridSearchCV\n",
    "    grid_search = GridSearchCV(logreg, param_grid, cv=skf, scoring='roc_auc')\n",
    "\n",
    "    # Fit the model to the training data\n",
    "    grid_search.fit(X_train, y_train)\n",
    "\n",
    "    # Get the best model from GridSearchCV\n",
    "    best_model = grid_search.best_estimator_\n",
    "\n",
    "    # Print the best hyperparameters\n",
    "    print(\"Best Hyperparameters:\")\n",
    "    print(grid_search.best_params_)\n",
    "\n",
    "    # Perform cross-validation and calculate evaluation metrics\n",
    "    scores = cross_val_score(best_model, X_train, y_train, cv=skf, scoring='roc_auc')\n",
    "    mean_score = scores.mean()\n",
    "    print('Training mean_score')\n",
    "    print(\"Cross-Validation AUC-ROC Score:\", mean_score)"
   ]
  },
  {
   "cell_type": "markdown",
   "id": "51a81b75",
   "metadata": {
    "heading_collapsed": true
   },
   "source": [
    "### RandomForest w/ grid. "
   ]
  },
  {
   "cell_type": "code",
   "execution_count": 138,
   "id": "eda789f2",
   "metadata": {
    "hidden": true
   },
   "outputs": [],
   "source": [
    "def random_forest_model_grid(X_train, y_train, random_state=None):\n",
    "    # Define the parameter grid for GridSearchCV\n",
    "    param_grid = {\n",
    "        'n_estimators': [5, 20, 50, 100, 125, 150],\n",
    "        'max_depth': [None, 3, 5, 10, 20],\n",
    "        'min_samples_split': [2, 3, 5, 10]\n",
    "    }\n",
    "    \n",
    "    # Create an instance of RandomForestClassifier\n",
    "    random_forest = RandomForestClassifier(random_state=random_state)\n",
    "    random_forest.fit(X_train, y_train)\n",
    "    \n",
    "    # Create an instance of StratifiedKFold\n",
    "    skf = StratifiedKFold(n_splits=10, shuffle=True, random_state=random_state)\n",
    "    \n",
    "    # Create an instance of GridSearchCV\n",
    "    grid_search = GridSearchCV(random_forest, param_grid, cv=skf, scoring='roc_auc')\n",
    "    \n",
    "    # Fit the model to the training data\n",
    "    grid_search.fit(X_train, y_train)\n",
    "    \n",
    "    # Get the best model from GridSearchCV\n",
    "    best_model = grid_search.best_estimator_\n",
    "    \n",
    "    # Print the best hyperparameters\n",
    "    print(\"Best Hyperparameters:\")\n",
    "    print(grid_search.best_params_)\n",
    "    \n",
    "    # Perform cross-validation and calculate evaluation metrics\n",
    "    scores = cross_val_score(best_model, X_train, y_train, cv=skf, scoring='roc_auc')\n",
    "    mean_score = scores.mean()\n",
    "    print('Training mean_score')\n",
    "    print(\"Cross-Validation AUC-ROC Score:\", mean_score)"
   ]
  },
  {
   "cell_type": "markdown",
   "id": "6e611acb",
   "metadata": {
    "heading_collapsed": true
   },
   "source": [
    "### Gradient Boosting w/ grid"
   ]
  },
  {
   "cell_type": "code",
   "execution_count": 139,
   "id": "6c5f35e4",
   "metadata": {
    "hidden": true
   },
   "outputs": [],
   "source": [
    "def gradient_boosting_model_grid(X_train, y_train, random_state=None):\n",
    "    # Define the parameter grid for GridSearchCV\n",
    "    param_grid = {\n",
    "        'n_estimators': [None, 5, 10, 50, 100, 125],\n",
    "        'learning_rate': [0.01, 0.1, 0.25, 0.5],\n",
    "        'max_depth': [3, 5, 7, 10],\n",
    "        'min_samples_split': [2, 3, 4, 5]\n",
    "    }\n",
    "    \n",
    "    # Create an instance of GradientBoostingClassifier\n",
    "    gradient_boosting = GradientBoostingClassifier(random_state=random_state)\n",
    "    gradient_boosting.fit(X_train,y_train)\n",
    "\n",
    "    # Create an instance of StratifiedKFold\n",
    "    skf = StratifiedKFold(n_splits=10, shuffle=True, random_state=random_state)    \n",
    "    \n",
    "    # Create an instance of GridSearchCV\n",
    "    grid_search = GridSearchCV(gradient_boosting, param_grid, cv=skf, scoring='roc_auc')\n",
    "    \n",
    "    # Fit the model to the training data\n",
    "    grid_search.fit(X_train, y_train)\n",
    "    \n",
    "    # Get the best model from GridSearchCV\n",
    "    best_model = grid_search.best_estimator_\n",
    "    \n",
    "    # Print the best hyperparameters\n",
    "    print(\"Best Hyperparameters:\")\n",
    "    print(grid_search.best_params_)\n",
    "    \n",
    "    # Perform cross-validation and calculate evaluation metrics\n",
    "    scores = cross_val_score(best_model, X_train, y_train, cv=skf, scoring='roc_auc')\n",
    "    mean_score = scores.mean()\n",
    "    print('Training mean_score')\n",
    "    print(\"Cross-Validation AUC-ROC Score:\", mean_score)\n"
   ]
  },
  {
   "cell_type": "markdown",
   "id": "6f79c8b4",
   "metadata": {
    "heading_collapsed": true
   },
   "source": [
    "###  Final Model Testing"
   ]
  },
  {
   "cell_type": "code",
   "execution_count": 164,
   "id": "1be5c5d9",
   "metadata": {
    "hidden": true
   },
   "outputs": [],
   "source": [
    "def test_best_model(best_model, X_train, y_train, X_test, y_test):\n",
    "    \n",
    "    best_model.fit(X_train, y_train)\n",
    "    y_pred = best_model.predict(X_test)\n",
    "    y_proba = best_model.predict_proba(X_test)\n",
    "    \n",
    "    # Calculate evaluation metrics\n",
    "    roc_auc = roc_auc_score(y_test, y_proba[:, 1])  # Using probabilities of the positive class\n",
    "    print(\"Test AUC-ROC Score:\", roc_auc)\n",
    "\n",
    "    # plot a seperate Confusion Matrix. \n",
    "    plot_confusion_matrix(y_pred, y_test)\n",
    "    \n",
    "    \n",
    "    plt.figure(figsize=(18, 6))\n",
    "\n",
    "    plt.subplot(1, 3, 1)\n",
    "    plot_f1_score(y_test, y_pred , label='Test Set')\n",
    "\n",
    "    plt.subplot(1, 3, 2)\n",
    "    plot_roc_curve(y_test, y_proba[:, 1], label='Test Set')\n",
    "\n",
    "    plt.subplot(1, 3, 3)\n",
    "    plot_aps(y_test, y_proba[:, 1], label='Test Set')\n",
    "\n",
    "\n",
    "    \n",
    "    graph_path = save_chart_path + 'box_Modeling_Spotcheck.png'\n",
    "\n",
    "    if os.path.isfile(graph_path):\n",
    "        print(\"The file already exists.\")\n",
    "    else:\n",
    "        plt.savefig(graph_path)\n",
    "        print(f\"The chart saved to {graph_path}\")\n",
    "        \n",
    "        \n",
    "    plt.tight_layout()\n",
    "    plt.show()"
   ]
  },
  {
   "cell_type": "markdown",
   "id": "d179510c",
   "metadata": {
    "heading_collapsed": true
   },
   "source": [
    "## Logistic Regression w/ gridsearch"
   ]
  },
  {
   "cell_type": "code",
   "execution_count": 79,
   "id": "e60c4a40",
   "metadata": {
    "hidden": true,
    "scrolled": true
   },
   "outputs": [
    {
     "name": "stdout",
     "output_type": "stream",
     "text": [
      "Best Hyperparameters:\n",
      "{'C': 1, 'penalty': 'l1', 'solver': 'saga'}\n",
      "Training mean_score\n",
      "Cross-Validation AUC-ROC Score: 0.8411118113159617\n"
     ]
    }
   ],
   "source": [
    "logistic_regression_cv(X_train_scaled , y_train_scaled, random_state=336699)"
   ]
  },
  {
   "cell_type": "markdown",
   "id": "e7a4af16",
   "metadata": {
    "heading_collapsed": true
   },
   "source": [
    "## Random Forest with gridsearch"
   ]
  },
  {
   "cell_type": "code",
   "execution_count": 80,
   "id": "1ff09e0a",
   "metadata": {
    "hidden": true,
    "scrolled": true
   },
   "outputs": [
    {
     "name": "stdout",
     "output_type": "stream",
     "text": [
      "Best Hyperparameters:\n",
      "{'max_depth': 5, 'min_samples_split': 3, 'n_estimators': 150}\n",
      "Training mean_score\n",
      "Cross-Validation AUC-ROC Score: 0.8481740447293911\n"
     ]
    }
   ],
   "source": [
    "random_forest_model_grid(X_train_scaled , y_train_scaled, random_state=336699)"
   ]
  },
  {
   "cell_type": "markdown",
   "id": "670cbcd7",
   "metadata": {
    "heading_collapsed": true
   },
   "source": [
    "## Gradient Boosting. "
   ]
  },
  {
   "cell_type": "code",
   "execution_count": 81,
   "id": "844a516d",
   "metadata": {
    "hidden": true,
    "scrolled": true
   },
   "outputs": [
    {
     "name": "stdout",
     "output_type": "stream",
     "text": [
      "Best Hyperparameters:\n",
      "{'learning_rate': 0.1, 'max_depth': 3, 'min_samples_split': 2, 'n_estimators': 50}\n",
      "Training mean_score\n",
      "Cross-Validation AUC-ROC Score: 0.8591698078523562\n"
     ]
    }
   ],
   "source": [
    "gradient_boosting_model_grid(X_train_scaled , y_train_scaled, random_state=336699)"
   ]
  },
  {
   "cell_type": "markdown",
   "id": "ee1b286d",
   "metadata": {
    "hidden": true
   },
   "source": [
    "Conclusion: \n",
    "   Among the three models evaluated, all demonstrated strong performance on the test set, with ROC-AUC scores exceeding 0.8. However, the Gradient Boosting model exhibited the highest prediction quality in terms of ROC-AUC score. To achieve this, the model underwent hyperparameter tuning using grid search and cross-validation, resulting in the optimal parameter values of 'learning_rate': 0.1, 'max_depth': 3, 'min_samples_split': 2, and 'n_estimators': 50.\n",
    "\n",
    "Training w/ Cross-Validation with StratifiedKfold, n_splits=10\n",
    "- Average AUC-ROC Score: 0.8580973064512063"
   ]
  },
  {
   "cell_type": "markdown",
   "id": "07ea325c",
   "metadata": {
    "heading_collapsed": true
   },
   "source": [
    "## Model Testing"
   ]
  },
  {
   "cell_type": "code",
   "execution_count": 165,
   "id": "dd31c298",
   "metadata": {
    "hidden": true,
    "scrolled": true
   },
   "outputs": [
    {
     "name": "stdout",
     "output_type": "stream",
     "text": [
      "Test AUC-ROC Score: 0.8439955465164459\n"
     ]
    },
    {
     "data": {
      "image/png": "[encoded data removed]",
      "text/plain": [
       "<Figure size 432x288 with 2 Axes>"
      ]
     },
     "metadata": {
      "needs_background": "light"
     },
     "output_type": "display_data"
    },
    {
     "name": "stdout",
     "output_type": "stream",
     "text": [
      "The chart saved to /Users/ericross/Desktop/Interconnect_churn_prediction/Charts/box_Modeling_Spotcheck.png\n"
     ]
    },
    {
     "data": {
      "image/png": "[encoded data removed]",
      "text/plain": [
       "<Figure size 1296x432 with 3 Axes>"
      ]
     },
     "metadata": {
      "needs_background": "light"
     },
     "output_type": "display_data"
    }
   ],
   "source": [
    "import itertools\n",
    "\n",
    "GB_best_model = GradientBoostingClassifier(learning_rate=0.1, max_depth=3, min_samples_split=2, n_estimators= 50, random_state=336699)\n",
    "\n",
    "test_best_model(GB_best_model, X_train_scaled, y_train_scaled, X_test_scaled, y_test_scaled)"
   ]
  },
  {
   "cell_type": "markdown",
   "id": "852628d4",
   "metadata": {
    "heading_collapsed": true
   },
   "source": [
    "## Feature Importances from Best_Model. "
   ]
  },
  {
   "cell_type": "code",
   "execution_count": 101,
   "id": "fecf6a43",
   "metadata": {
    "hidden": true
   },
   "outputs": [
    {
     "name": "stdout",
     "output_type": "stream",
     "text": [
      "Original shape: (7043, 23)\n",
      "Selected shape: (4225, 6)\n",
      "Filtered y_s shape: (4225,)\n",
      "\n",
      "MonthlyCharges - 0.2351\n",
      "\n",
      "TotalCharges - 0.0488\n",
      "\n",
      "tenure - 0.4782\n",
      "\n",
      "SeniorCitizen - 0.0131\n",
      "\n",
      "Type_One year - 0.0576\n",
      "\n",
      "Type_Two year - 0.0757\n",
      "\n",
      "PaperlessBilling_Yes - 0.0096\n",
      "\n",
      "PaymentMethod_Credit card (automatic) - 0.0000\n",
      "\n",
      "PaymentMethod_Electronic check - 0.0786\n",
      "\n",
      "PaymentMethod_Mailed check - 0.0005\n",
      "\n",
      "gender_Male - 0.0000\n",
      "\n",
      "Partner_Yes - 0.0004\n",
      "\n",
      "Dependents_Yes - 0.0000\n",
      "\n",
      "InternetService_Fiber optic - 0.0006\n",
      "\n",
      "InternetService_No - 0.0001\n",
      "\n",
      "OnlineSecurity_Yes - 0.0001\n",
      "\n",
      "OnlineBackup_Yes - 0.0000\n",
      "\n",
      "DeviceProtection_Yes - 0.0000\n",
      "\n",
      "TechSupport_Yes - 0.0011\n",
      "\n",
      "StreamingTV_Yes - 0.0002\n",
      "\n",
      "StreamingMovies_Yes - 0.0000\n",
      "\n",
      "MultipleLines_No Service - 0.0000\n",
      "\n",
      "MultipleLines_Yes - 0.0004\n"
     ]
    },
    {
     "data": {
      "image/png": "[encoded data removed]",
      "text/plain": [
       "<Figure size 720x432 with 1 Axes>"
      ]
     },
     "metadata": {
      "needs_background": "light"
     },
     "output_type": "display_data"
    },
    {
     "data": {
      "image/png": "[encoded data removed]",
      "text/plain": [
       "<Figure size 720x432 with 1 Axes>"
      ]
     },
     "metadata": {
      "needs_background": "light"
     },
     "output_type": "display_data"
    }
   ],
   "source": [
    "from sklearn.feature_selection import SelectFromModel\n",
    "\n",
    "selector = SelectFromModel(estimator=GB_best_model)\n",
    "\n",
    "selector.fit(X_train_scaled, y_train_scaled)\n",
    "\n",
    "X_s = selector.transform(X_train_scaled)\n",
    "\n",
    "selected_feature_names = X.columns[selector.get_support()].tolist()\n",
    "\n",
    "y_s = y_train_scaled\n",
    "\n",
    "print(f\"Original shape: {X.shape}\")\n",
    "print(f\"Selected shape: {X_s.shape}\")\n",
    "print(f\"Filtered y_s shape: {y_s.shape}\")\n",
    "\n",
    "\n",
    "feature_importances = GB_best_model.feature_importances_\n",
    "\n",
    "# Print the feature importance values with corresponding feature names\n",
    "for feature, importance in zip(X.columns, feature_importances):\n",
    "    importance_formatted = \"{:.4f}\".format(importance)\n",
    "    print(f\"\\n{feature} - {importance_formatted}\")\n",
    "    \n",
    "#Plotting Final models feature Importances. \n",
    "\n",
    "sorted_indices = feature_importances.argsort()[::-1]\n",
    "sorted_importances = feature_importances[sorted_indices]\n",
    "sorted_feature_names = np.array(X.columns)[sorted_indices]\n",
    "\n",
    "# Plot all feature importances\n",
    "plt.figure(figsize=(10, 6))\n",
    "plt.bar(range(len(sorted_importances)), sorted_importances)\n",
    "plt.xticks(range(len(sorted_importances)), sorted_feature_names, rotation='vertical')\n",
    "plt.xlabel('Features')\n",
    "plt.ylabel('Importance')\n",
    "plt.title('All Feature Importances')\n",
    "plt.tight_layout()\n",
    "plt.show()\n",
    "\n",
    "\n",
    "selected_importances = sorted_importances[:len(selected_feature_names)]\n",
    "selected_feature_names = sorted_feature_names[:len(selected_feature_names)]\n",
    "\n",
    "# Plot the selected feature importances\n",
    "plt.figure(figsize=(10, 6))\n",
    "plt.bar(range(len(selected_importances)), selected_importances)\n",
    "plt.xticks(range(len(selected_importances)), selected_feature_names, rotation='vertical')\n",
    "plt.xlabel('Features')\n",
    "plt.ylabel('Importance')\n",
    "plt.title('Selected Feature Importances')\n",
    "\n",
    "plt.tight_layout()\n",
    "plt.show()"
   ]
  },
  {
   "cell_type": "markdown",
   "id": "42bd5ec6",
   "metadata": {
    "hidden": true
   },
   "source": [
    "  Based on the feature importance scores obtained from the feature selection process, several factors stand out as important contributors to customer churn in the telecommunications company dataset. The most influential factors include 'tenure' with a score of 0.4992, indicating that customers with longer tenure are less likely to churn. 'MonthlyCharges' (0.2407) and 'TotalCharges' (0.0256) also play significant roles, suggesting that higher monthly and total charges are associated with higher churn rates. The customer type is also relevant, with 'Type_Two year' (0.0694) and 'Type_One year' (0.0567) showing that customers with longer contract durations are more likely to stay. Additionally, the payment method, particularly 'PaymentMethod_Electronic check' (0.0793), demonstrates a correlation with higher churn rates. Other variables, such as 'SeniorCitizen' (0.0147) and 'PaperlessBilling_Yes' (0.0103), exhibit relatively lower importance but still contribute to the overall prediction of churn. The insights gained from these feature importance scores can aid in developing targeted strategies to reduce customer churn, such as offering incentives for longer-term contracts and improving the electronic payment experience."
   ]
  }
 ],
 "metadata": {
  "kernelspec": {
   "display_name": "Python 3 (ipykernel)",
   "language": "python",
   "name": "python3"
  },
  "language_info": {
   "codemirror_mode": {
    "name": "ipython",
    "version": 3
   },
   "file_extension": ".py",
   "mimetype": "text/x-python",
   "name": "python",
   "nbconvert_exporter": "python",
   "pygments_lexer": "ipython3",
   "version": "3.9.12"
  },
  "toc": {
   "base_numbering": 1,
   "nav_menu": {},
   "number_sections": true,
   "sideBar": true,
   "skip_h1_title": false,
   "title_cell": "Table of Contents",
   "title_sidebar": "Contents",
   "toc_cell": false,
   "toc_position": {
    "height": "calc(100% - 180px)",
    "left": "10px",
    "top": "150px",
    "width": "279.594px"
   },
   "toc_section_display": true,
   "toc_window_display": false
  },
  "varInspector": {
   "cols": {
    "lenName": 16,
    "lenType": 16,
    "lenVar": 40
   },
   "kernels_config": {
    "python": {
     "delete_cmd_postfix": "",
     "delete_cmd_prefix": "del ",
     "library": "var_list.py",
     "varRefreshCmd": "print(var_dic_list())"
    },
    "r": {
     "delete_cmd_postfix": ") ",
     "delete_cmd_prefix": "rm(",
     "library": "var_list.r",
     "varRefreshCmd": "cat(var_dic_list()) "
    }
   },
   "types_to_exclude": [
    "module",
    "function",
    "builtin_function_or_method",
    "instance",
    "_Feature"
   ],
   "window_display": false
  }
 },
 "nbformat": 4,
 "nbformat_minor": 5
}
